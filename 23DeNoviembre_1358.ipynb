{
  "nbformat": 4,
  "nbformat_minor": 0,
  "metadata": {
    "colab": {
      "name": "23DeNoviembre_1358",
      "provenance": [],
      "authorship_tag": "ABX9TyMH00k3zTPwwlddqsagoET0",
      "include_colab_link": true
    },
    "kernelspec": {
      "name": "python3",
      "display_name": "Python 3"
    }
  },
  "cells": [
    {
      "cell_type": "markdown",
      "metadata": {
        "id": "view-in-github",
        "colab_type": "text"
      },
      "source": [
        "<a href=\"https://colab.research.google.com/github/miguelVeltmann/edd_1358_2021/blob/master/23DeNoviembre_1358.ipynb\" target=\"_parent\"><img src=\"https://colab.research.google.com/assets/colab-badge.svg\" alt=\"Open In Colab\"/></a>"
      ]
    },
    {
      "cell_type": "code",
      "metadata": {
        "id": "ogucsyeM1Vyf",
        "colab": {
          "base_uri": "https://localhost:8080/"
        },
        "outputId": "002f8e87-8910-4dd7-cee4-6e16e01b1759"
      },
      "source": [
        "class Nodo:\n",
        "  def __init__(self,dato, siguiente=None ):\n",
        "    self.dato = dato\n",
        "    self.siguiente = siguiente\n",
        "\n",
        "class LinkedList:\n",
        "  def __init__( self ):\n",
        "    self.__Head = None\n",
        "\n",
        "  def is_empty( self ):\n",
        "    return self.__Head == None\n",
        "\n",
        "  def tail( self):\n",
        "    curr_node = self.__Head\n",
        "    while curr_node != None and curr_node.siguiente != None:\n",
        "      curr_node= curr_node.siguiente\n",
        "    return curr_node\n",
        "\n",
        "  def append( self, value):\n",
        "    nuevo = Nodo(value)\n",
        "    if self.__Head == None:\n",
        "      self.__Head = nuevo\n",
        "    else:\n",
        "      self.tail().siguiente = nuevo \n",
        "\n",
        "  def transversal(self):\n",
        "    curr_node = self.__Head\n",
        "    if curr_node == None:\n",
        "      print(\"Lista vacia\")\n",
        "    else:\n",
        "      while curr_node != None:\n",
        "        print(f\"{curr_node.dato} --> \", end=\"\")\n",
        "        curr_node = curr_node.siguiente\n",
        "    print()\n",
        "\n",
        "  def prepend(self, value):\n",
        "    nuevo = Nodo(value)\n",
        "    if self.__Head == None:\n",
        "      Self.__Head = nuevo \n",
        "    else:\n",
        "      x = self.__Head\n",
        "      self.__Head = nuevo\n",
        "      nuevo.siguiente = x \n",
        "\n",
        "  #def prepend(self, value):\n",
        "    #nuevo = Nodo(value, self.__head)\n",
        "    #self.__head = nuevo\n",
        "\n",
        "\n",
        "\n",
        "l = LinkedList()\n",
        "print(f\"L esta vacia?={l.is_empty()} \")\n",
        "x = l.tail()\n",
        "print(x)\n",
        "l.append(10)\n",
        "l.append(20)\n",
        "l.append(30)\n",
        "l.append(40)\n",
        "l.transversal()\n",
        "l.prepend(5)\n",
        "l.transversal()"
      ],
      "execution_count": 28,
      "outputs": [
        {
          "output_type": "stream",
          "text": [
            "L esta vacia?=True \n",
            "None\n",
            "10 --> 20 --> 30 --> 40 --> \n",
            "5 --> 10 --> 20 --> 30 --> 40 --> \n"
          ],
          "name": "stdout"
        }
      ]
    }
  ]
}