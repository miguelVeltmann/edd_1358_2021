{
  "nbformat": 4,
  "nbformat_minor": 0,
  "metadata": {
    "colab": {
      "name": "12deOctubre_1358",
      "provenance": [],
      "authorship_tag": "ABX9TyNlhd765liPjsv2NIeQnGX8",
      "include_colab_link": true
    },
    "kernelspec": {
      "name": "python3",
      "display_name": "Python 3"
    }
  },
  "cells": [
    {
      "cell_type": "markdown",
      "metadata": {
        "id": "view-in-github",
        "colab_type": "text"
      },
      "source": [
        "<a href=\"https://colab.research.google.com/github/miguelVeltmann/edd_1358_2021/blob/master/12deOctubre_1358.ipynb\" target=\"_parent\"><img src=\"https://colab.research.google.com/assets/colab-badge.svg\" alt=\"Open In Colab\"/></a>"
      ]
    },
    {
      "cell_type": "code",
      "metadata": {
        "id": "kN8uJdStVgCd"
      },
      "source": [
        "#diccionarios (continuacion)\n",
        "cliente_banco = {\n",
        "                \"id\":1,\n",
        "                 \"nombres\":[\"Juan\", \"Antonio\"],\n",
        "                 \"paterno\":\"Garcia\",\n",
        "                 \"materno\":\"Perez\",\n",
        "                 \"telefonos\":{\n",
        "                            \"casa\": 5566778899,\n",
        "                            \"celular\": 5544332211,\n",
        "                            \"trabajo\": 5566223311,\n",
        "                            },\n",
        "                 \"activo\": True,\n",
        "                 \"balance\":234567.89,\n",
        "                 \"tarjetas\": ({\"tipo\":\"debito\",\"saldo\":12000},{\"tipo\":\"credito\",\"saldo\":\"3500.0\"})\n",
        "\n",
        "                }\n",
        "print(cliente_banco)\n",
        "cliente_banco[\"balance\"] -= 1000.89\n",
        "print(cliente_banco)\n",
        "cliente_banco[\"tarjetas\"]=({\"tipo\":\"debito\", \"saldo\":12000},\n",
        "                           {\"tipo\": \"credito\", \"saldo\":3500.0},\n",
        "                           {\"tipo\":\"credito\",\"nivel\":\"oro\", \"saldo\":50000})\n",
        "print(cliente_banco)\n",
        "cliente_banco[\"direccion\"]={\"calle\":\"rancho seco\",  \"num\":23 }\n",
        "print(cliente_banco)\n",
        "cliente_banco.pop(\"tarjetas\")\n",
        "print(cliente_banco)"
      ],
      "execution_count": null,
      "outputs": []
    },
    {
      "cell_type": "code",
      "metadata": {
        "id": "AFn-Rp1Jdrbp"
      },
      "source": [
        "llaves = cliente_banco.keys()\n",
        "print(llaves)\n",
        "print(type(llaves))\n",
        "for x in llaves:\n",
        "  print(x)\n",
        "\n",
        "valores = cliente_banco.values()\n",
        "print(valores)\n",
        "for v in valores:\n",
        "  print(v)\n",
        "\n",
        "pares = cliente_banco.items()\n",
        "print(pares)\n",
        "\n",
        "for elem in pares:\n",
        "  print(f\"{elem[0]} = {elem[1]}\")"
      ],
      "execution_count": null,
      "outputs": []
    },
    {
      "cell_type": "code",
      "metadata": {
        "id": "z2swjSh6g6hJ"
      },
      "source": [
        "fruta = {\"nombre\":\"manzana\",\"color\":\"rojo\", \"estado\":\"chihuahua\" }\n",
        "otras_caracteristicas ={\"vitamina\":\"D\"}\n",
        "fruta.update(otras_caracteristicas)\n",
        "print(fruta)"
      ],
      "execution_count": null,
      "outputs": []
    },
    {
      "cell_type": "markdown",
      "metadata": {
        "id": "N6dZvDPbibeC"
      },
      "source": [
        "#Funciones\n",
        "- recibe de 0 a n argumentos de entrada\n",
        "- regresa solo una valor, aunque ese valor sea None.\n",
        "- Tiene un nombre unico en el contexto.\n",
        "- Se pueden hacer solo dos cosas con funciones \n",
        "       -definirla\n",
        "       -llamarla\n"
      ]
    },
    {
      "cell_type": "code",
      "metadata": {
        "id": "dG7OXOJ7jBGV"
      },
      "source": [
        "def suma1(a,b):\n",
        "  return a+b\n",
        "\n",
        "def suma2(x,y):\n",
        "  return None\n",
        "\n",
        "def saludar():\n",
        "  print(\"Hola ¿Como estas?\")\n",
        "  return None\n",
        "\n",
        "x = 10\n",
        "y = 20\n",
        "c= suma1(x,y)\n",
        "d= suma2(x,y)\n",
        "print(c)\n",
        "print(d)\n",
        "\n",
        "saludar()"
      ],
      "execution_count": null,
      "outputs": []
    },
    {
      "cell_type": "markdown",
      "metadata": {
        "id": "mrzWqapPlDmT"
      },
      "source": [
        "#None y la funciones\n",
        "Aprovechar el uso de none en paso de parametros\n"
      ]
    },
    {
      "cell_type": "code",
      "metadata": {
        "id": "qebIkMWjlLIk"
      },
      "source": [
        "def calcular(base, veces):\n",
        "  if base != None:\n",
        "    resultado = base * veces\n",
        "  else:\n",
        "    resultado= \"desconocido\"\n",
        "  return resultado\n",
        "\n",
        "print(calcular(4,3))\n",
        "print(calcular(None,3))"
      ],
      "execution_count": null,
      "outputs": []
    }
  ]
}