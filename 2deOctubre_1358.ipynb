{
  "nbformat": 4,
  "nbformat_minor": 0,
  "metadata": {
    "colab": {
      "name": "2deOctubre_1358",
      "provenance": [],
      "authorship_tag": "ABX9TyM1muwgfOkBpEXdsQErFPHp",
      "include_colab_link": true
    },
    "kernelspec": {
      "name": "python3",
      "display_name": "Python 3"
    }
  },
  "cells": [
    {
      "cell_type": "markdown",
      "metadata": {
        "id": "view-in-github",
        "colab_type": "text"
      },
      "source": [
        "<a href=\"https://colab.research.google.com/github/miguelVeltmann/edd_1358_2021/blob/master/2deOctubre_1358.ipynb\" target=\"_parent\"><img src=\"https://colab.research.google.com/assets/colab-badge.svg\" alt=\"Open In Colab\"/></a>"
      ]
    },
    {
      "cell_type": "markdown",
      "metadata": {
        "id": "rBTwDlyS3TZr"
      },
      "source": [
        "#Tipos de dato\n",
        "- String             str\n",
        "- enteros            int\n",
        "- numero flotante    float\n",
        "- logico             bool\n",
        "- Numero complejo    complex\n",
        "- Listas             List\n",
        "- Tuplas             tuple\n",
        "- Diccionario        dict\n",
        "- Conjuntos          set\n"
      ]
    },
    {
      "cell_type": "code",
      "metadata": {
        "id": "rDS7qoRMzzRi"
      },
      "source": [
        "#string puede emplear \"\" , '' o \"\"\" \"\"\"\n",
        "universidad = \"Universidad     Nacional Autonoma de Mexico\"\n",
        "print(universidad)\n",
        "#cuando el string es una sola palabra se usa '' ---> buena practica\n",
        "carrera = 'ico'\n",
        "area = 'software'\n",
        "division = \"division de las ciencas fisico matematicas\"\n",
        "print(carrera, area)\n",
        "print(division)\n",
        "#\"\"\" cuando el string incluye varios renglones\n",
        "frase = \"\"\"\n",
        "si \n",
        "funciona, no\n",
        "lo\n",
        "arregles !!\n",
        "\"\"\"\n",
        "print(frase)"
      ],
      "execution_count": null,
      "outputs": []
    },
    {
      "cell_type": "code",
      "metadata": {
        "id": "WvvM4MQN53Ur"
      },
      "source": [
        "print( universidad.upper() )\n",
        "print (universidad)\n",
        "print (universidad.title())\n",
        "#eliminar espacios a la derecha o izquierda \\n\n",
        "universidad = universidad.strip()\n",
        "print(universidad)\n",
        "lista = universidad.split(\" \")\n",
        "print(lista)\n",
        "nueva = \" \"\n",
        "for i in  lista:\n",
        "  if len(i) > 0:\n",
        "    nueva += i + \" \"\n",
        "print(nueva)\n",
        "\n",
        "numeros = \"1,2,34,56,100\"\n",
        "separados = numeros.split(\",\")\n",
        "print(separados)\n",
        "numeros_int = []\n",
        "for num in separados:\n",
        "  numeros_int.append( int(num) )\n",
        "print(numeros_int)\n",
        "print(nueva)\n",
        "print(nueva.index(\" Na\"))\n",
        "print(nueva.replace(\" \",\"-\"))\n",
        "print(nueva)"
      ],
      "execution_count": null,
      "outputs": []
    },
    {
      "cell_type": "markdown",
      "metadata": {
        "id": "yCyy6W8Y_gFq"
      },
      "source": [
        "#slicing\n",
        "sintaxis\n",
        "[inicio : stop : incremento]\n"
      ]
    },
    {
      "cell_type": "code",
      "metadata": {
        "id": "-HhbwQxy_1zu"
      },
      "source": [
        "print(nueva[0] )\n",
        "nueva = nueva.strip()\n",
        "print(nueva[len(nueva) - 1]) #indexado negativo\n",
        "print(nueva[-2] )\n",
        "\n",
        "#slicing\n",
        "print(nueva[12 : 20: 1])\n",
        "print(nueva[-6 : : 1])\n",
        "print(nueva[-1: -7 : -1])\n",
        "#mexico al revez con slicing\n",
        "print(nueva[ ::2 ])\n"
      ],
      "execution_count": null,
      "outputs": []
    },
    {
      "cell_type": "markdown",
      "metadata": {
        "id": "VSn5Bw6WEBDU"
      },
      "source": [
        "#bool \n",
        "Acepta solo dos valores \n",
        "True bool(1)\n",
        "False bool(0)"
      ]
    },
    {
      "cell_type": "code",
      "metadata": {
        "id": "tUpKch9oELim",
        "outputId": "4bcdd6f4-3bc8-4e0d-8c4b-f05389dc4752",
        "colab": {
          "base_uri": "https://localhost:8080/",
          "height": 68
        }
      },
      "source": [
        "print(bool(0))\n",
        "print(bool(1))\n",
        "print(bool(21827))"
      ],
      "execution_count": 49,
      "outputs": [
        {
          "output_type": "stream",
          "text": [
            "False\n",
            "True\n",
            "True\n"
          ],
          "name": "stdout"
        }
      ]
    },
    {
      "cell_type": "markdown",
      "metadata": {
        "id": "Whr_GI8rFAV9"
      },
      "source": [
        "#Comentarios\n",
        "para un comentario de multiple linea, equivalente a /**/ de java y leng c se utiliza \"\"\" \"\"\""
      ]
    },
    {
      "cell_type": "code",
      "metadata": {
        "id": "apZl0xJ0FiRR"
      },
      "source": [
        "#este es un comentario de linea simple\n",
        "\"\"\"\n",
        "Este \n",
        " es un\n",
        "  comentario\n",
        "   de multiple\n",
        "     linea\n",
        "\"\"\"\n"
      ],
      "execution_count": null,
      "outputs": []
    },
    {
      "cell_type": "markdown",
      "metadata": {
        "id": "ohNDlpilFx8Y"
      },
      "source": [
        "#Funcion Print\n",
        "Hay 4 formas de usar print\n",
        "1.   con cosas(,)\n",
        "2.   con signo +(+)\n",
        "3.   con la funcion format() de la clase string\n",
        "4.   con el operador f\"\n",
        "\n",
        "\n",
        "\n"
      ]
    },
    {
      "cell_type": "code",
      "metadata": {
        "id": "tnzWMWsoGQIe",
        "outputId": "e50c35de-df36-45e5-a42d-c36af0d1eb13",
        "colab": {
          "base_uri": "https://localhost:8080/",
          "height": 85
        }
      },
      "source": [
        "#con comas\n",
        "cantidad = 2\n",
        "precio_chetos = 8\n",
        "precio_fanta = 12\n",
        "\n",
        "print(cantidad,precio_chetos,precio_fanta)\n",
        "\n",
        "#con signo solo opera con strings\n",
        "print(\"Hola\" + \"Mundo\")\n",
        "print(cantidad + precio_chetos + precio_fanta)\n",
        "print(str(cantidad) + str(precio_chetos) + str(precio_fanta))\n"
      ],
      "execution_count": 52,
      "outputs": [
        {
          "output_type": "stream",
          "text": [
            "2 8 12\n",
            "HolaMundo\n",
            "22\n",
            "2812\n"
          ],
          "name": "stdout"
        }
      ]
    }
  ]
}