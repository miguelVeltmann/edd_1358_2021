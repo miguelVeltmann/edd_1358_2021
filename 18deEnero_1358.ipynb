{
  "nbformat": 4,
  "nbformat_minor": 0,
  "metadata": {
    "colab": {
      "name": "18deEnero_1358",
      "provenance": [],
      "authorship_tag": "ABX9TyP1BbuUk/6G+yHk0tvuExcn",
      "include_colab_link": true
    },
    "kernelspec": {
      "name": "python3",
      "display_name": "Python 3"
    }
  },
  "cells": [
    {
      "cell_type": "markdown",
      "metadata": {
        "id": "view-in-github",
        "colab_type": "text"
      },
      "source": [
        "<a href=\"https://colab.research.google.com/github/miguelVeltmann/edd_1358_2021/blob/master/18deEnero_1358.ipynb\" target=\"_parent\"><img src=\"https://colab.research.google.com/assets/colab-badge.svg\" alt=\"Open In Colab\"/></a>"
      ]
    },
    {
      "cell_type": "code",
      "metadata": {
        "id": "qRS6KgbhSBKu"
      },
      "source": [
        "class NodoArbol:\r\n",
        "  def __init__(self, value, left=None, right=None):\r\n",
        "    self.data = value\r\n",
        "    self.left = left\r\n",
        "    self.right = right"
      ],
      "execution_count": 2,
      "outputs": []
    },
    {
      "cell_type": "code",
      "metadata": {
        "id": "z_GV1u3KSyyG"
      },
      "source": [
        "class ArbolBinarioBusqueda:\r\n",
        "  def __init__( self):\r\n",
        "    self.root = None\r\n",
        "\r\n",
        "  def insert(self, value):\r\n",
        "    if self.root == None:\r\n",
        "      self.root = NodoArbol( value )\r\n",
        "    else:\r\n",
        "      self.__insert__(self.root,value)\r\n",
        "\r\n",
        "  def __insert__(self, nodo, value): #recursividad\r\n",
        "    if nodo.data == value:\r\n",
        "      print(\"El nodo ya existe , no se inserta: \", value)\r\n",
        "    elif value < nodo.data:\r\n",
        "      #ir a la izq\r\n",
        "      if nodo.left == None:\r\n",
        "        nodo.left = NodoArbol(value)\r\n",
        "      else:\r\n",
        "        self.__insert__(nodo.left, value, None, None)\r\n",
        "\r\n",
        "    else:\r\n",
        "      if nodo.right == None:\r\n",
        "        nodo.right = NodoArbol(value, None, None)\r\n",
        "      else:\r\n",
        "        self.__insert__(nodo.right, value)\r\n",
        "      #ir a la derecha"
      ],
      "execution_count": 8,
      "outputs": []
    },
    {
      "cell_type": "code",
      "metadata": {
        "colab": {
          "base_uri": "https://localhost:8080/"
        },
        "id": "yrq1jEsIeSEQ",
        "outputId": "a05af160-0106-4995-edff-6c15eb40bf0c"
      },
      "source": [
        "abb = ArbolBinarioBusqueda()\r\n",
        "abb.insert(40)\r\n",
        "abb.insert(30)\r\n",
        "abb.insert(40)\r\n"
      ],
      "execution_count": 10,
      "outputs": [
        {
          "output_type": "stream",
          "text": [
            "El nodo ya existe , no se inserta:  40\n"
          ],
          "name": "stdout"
        }
      ]
    }
  ]
}