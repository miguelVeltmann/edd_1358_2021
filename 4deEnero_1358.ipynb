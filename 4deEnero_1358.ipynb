{
  "nbformat": 4,
  "nbformat_minor": 0,
  "metadata": {
    "colab": {
      "name": "4deEnero_1358",
      "provenance": [],
      "authorship_tag": "ABX9TyPYMMR+kyaf+WlvEGw5IrGr",
      "include_colab_link": true
    },
    "kernelspec": {
      "name": "python3",
      "display_name": "Python 3"
    }
  },
  "cells": [
    {
      "cell_type": "markdown",
      "metadata": {
        "id": "view-in-github",
        "colab_type": "text"
      },
      "source": [
        "<a href=\"https://colab.research.google.com/github/miguelVeltmann/edd_1358_2021/blob/master/4deEnero_1358.ipynb\" target=\"_parent\"><img src=\"https://colab.research.google.com/assets/colab-badge.svg\" alt=\"Open In Colab\"/></a>"
      ]
    },
    {
      "cell_type": "code",
      "metadata": {
        "id": "s-ohfOrNL03k"
      },
      "source": [
        "class Queue:\r\n",
        "  def __init__(self):\r\n",
        "    self.__data = list()\r\n",
        "    \r\n",
        "\r\n",
        "  def is_empty(self):\r\n",
        "    return len(self.__data) == 0\r\n",
        "\r\n",
        "  def lenght(self):\r\n",
        "    return len(self.__data)\r\n",
        "\r\n",
        "  def enqueue(self, item):\r\n",
        "    self.__data.append(item)\r\n",
        "\r\n",
        "  def dequeue(self):\r\n",
        "    if not self.is_empty():\r\n",
        "      return self.__data.pop(0)\r\n",
        "    else:\r\n",
        "      return None\r\n",
        "\r\n",
        "  def to_string(self):\r\n",
        "    for elem in self.__data:\r\n",
        "      print(f\"|{elem}\", end=\"\")\r\n",
        "    print(\"|\")\r\n"
      ],
      "execution_count": 7,
      "outputs": []
    },
    {
      "cell_type": "code",
      "metadata": {
        "colab": {
          "base_uri": "https://localhost:8080/"
        },
        "id": "mwVhdPuVR24p",
        "outputId": "8538b819-4089-417e-b88e-d1953cd4a206"
      },
      "source": [
        "cola = Queue()\r\n",
        "cola.enqueue(10)\r\n",
        "cola.enqueue(2)\r\n",
        "cola.enqueue(20)\r\n",
        "cola.enqueue(110)\r\n",
        "cola.enqueue(33)  \r\n",
        "\r\n",
        "cola.to_string()\r\n",
        "#meter un elemento\r\n",
        "cola.enqueue(44)\r\n",
        "cola.to_string()\r\n",
        "\r\n",
        "#sacar un elemento \r\n",
        "elem = cola.dequeue()\r\n",
        "print(f\"El elemento es {elem}\")\r\n",
        "cola.to_string()\r\n",
        "\r\n",
        "#sacar un elemento \r\n",
        "elem = cola.dequeue()\r\n",
        "print(f\"El elemento es {elem}\")\r\n",
        "cola.to_string()"
      ],
      "execution_count": 10,
      "outputs": [
        {
          "output_type": "stream",
          "text": [
            "|10|2|20|110|33|\n",
            "|10|2|20|110|33|44|\n",
            "El elemento es 10\n",
            "|2|20|110|33|44|\n",
            "El elemento es 2\n",
            "|20|110|33|44|\n"
          ],
          "name": "stdout"
        }
      ]
    },
    {
      "cell_type": "code",
      "metadata": {
        "colab": {
          "base_uri": "https://localhost:8080/"
        },
        "id": "Y5IE9h9vUo7n",
        "outputId": "9c72748e-391d-4142-e45e-6d3575b6fdf7"
      },
      "source": [
        "c1 = {\"id\": 1, \"nombre\":\"Jose\", \"Balance\": 2345654.99}\r\n",
        "c2 = {\"id\": 2, \"nombre\":\"Maria\", \"Balance\":2323.01  }\r\n",
        "c3 = {\"id\": 3, \"nombre\":\"Jesus\", \"Balance\": 333.55}\r\n",
        "\r\n",
        "queue = Queue()\r\n",
        "queue.enqueue(c1)\r\n",
        "queue.enqueue(c2)\r\n",
        "queue.enqueue(c3)\r\n",
        "queue.to_string()\r\n",
        "\r\n",
        "a_atender = queue.dequeue()\r\n",
        "print(f\"Hola sr {a_atender['nombre']}, que tramite desea hacer?\")"
      ],
      "execution_count": 13,
      "outputs": [
        {
          "output_type": "stream",
          "text": [
            "|{'id': 1, 'nombre': 'Jose', 'Balance': 2345654.99}|{'id': 2, 'nombre': 'Maria', 'Balance': 2323.01}|{'id': 3, 'nombre': 'Jesus', 'Balance': 333.55}|\n",
            "Hola sr Jose, que tramite desea hacer?\n"
          ],
          "name": "stdout"
        }
      ]
    }
  ]
}