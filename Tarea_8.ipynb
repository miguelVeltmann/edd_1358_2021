{
  "nbformat": 4,
  "nbformat_minor": 0,
  "metadata": {
    "colab": {
      "name": "Tarea 8",
      "provenance": [],
      "authorship_tag": "ABX9TyNAAg2EboG4VW6toUd5Mil1",
      "include_colab_link": true
    },
    "kernelspec": {
      "name": "python3",
      "display_name": "Python 3"
    }
  },
  "cells": [
    {
      "cell_type": "markdown",
      "metadata": {
        "id": "view-in-github",
        "colab_type": "text"
      },
      "source": [
        "<a href=\"https://colab.research.google.com/github/miguelVeltmann/edd_1358_2021/blob/master/Tarea_8.ipynb\" target=\"_parent\"><img src=\"https://colab.research.google.com/assets/colab-badge.svg\" alt=\"Open In Colab\"/></a>"
      ]
    },
    {
      "cell_type": "code",
      "metadata": {
        "id": "Q6XDbxehpNqj"
      },
      "source": [
        "class Queue:\r\n",
        "  def __init__(self):\r\n",
        "    self.__data = list()\r\n",
        "    \r\n",
        "\r\n",
        "  def is_empty(self):\r\n",
        "    return len(self.__data) == 0\r\n",
        "\r\n",
        "  def lenght(self):\r\n",
        "    return len(self.__data)\r\n",
        "\r\n",
        "  def enqueue(self, item):\r\n",
        "    self.__data.append(item)\r\n",
        "\r\n",
        "  def dequeue(self):\r\n",
        "    if not self.is_empty():\r\n",
        "      return self.__data.pop(0)\r\n",
        "    else:\r\n",
        "      return None\r\n",
        "\r\n",
        "  def to_string(self):\r\n",
        "    cadena = \"\"\r\n",
        "    for elem in self.__data:\r\n",
        "      cadena = cadena +\"|\" + elem\r\n",
        "    cadena = cadena +\"|\"\r\n",
        "    return cadena"
      ],
      "execution_count": null,
      "outputs": []
    },
    {
      "cell_type": "code",
      "metadata": {
        "id": "anEFAZtnpoqU"
      },
      "source": [
        "class BoundedPriorityQueue:\r\n",
        "  def __init__(self, niveles):\r\n",
        "    self.__niveles = niveles\r\n",
        "    self.__data = [Queue() for x in range(niveles) ]\r\n",
        "    self.__size = 0\r\n",
        "\r\n",
        "  def is_empty(self):\r\n",
        "    return self.__size == 0\r\n",
        "\r\n",
        "  def lenght(self):\r\n",
        "    return self.__size\r\n",
        "\r\n",
        "  def enqueue(self, prioridad, elem ):\r\n",
        "    if prioridad < len(self.__data) and prioridad >= 0:\r\n",
        "      self.__data[prioridad].enqueue(elem)\r\n",
        "      self.__size +=1\r\n",
        "    else:\r\n",
        "      print(\"Prioridad fuera de rango.\")\r\n",
        "\r\n",
        "  def dequeue(self):\r\n",
        "    if not self.is_empty():\r\n",
        "      nivel = 0\r\n",
        "      while self.__data[nivel].is_empty():\r\n",
        "        nivel +=1\r\n",
        "      return self.__data[nivel].dequeue()\r\n",
        "\r\n",
        "  def to_string( self ):\r\n",
        "      for nivel in range(len(self.__data)):\r\n",
        "        print(f\"Nivel {nivel} --> {self.__data[nivel].to_string()}\")\r\n",
        "\r\n",
        "  def vaciar_lista(self):\r\n",
        "    nivel = 0\r\n",
        "    self.to_string()\r\n",
        "    while not self.is_empty() and nivel < self.__niveles:\r\n",
        "      if self.__data[nivel].is_empty():\r\n",
        "        nivel += 1\r\n",
        "      else:\r\n",
        "        while not self.__data[nivel].is_empty():\r\n",
        "          self.__data[nivel].dequeue()\r\n",
        "          self.to_string()\r\n",
        "    print(\"La lista esta vacia\")\r\n",
        "      \r\n",
        "      \r\n",
        "\r\n",
        "\r\n"
      ],
      "execution_count": 79,
      "outputs": []
    },
    {
      "cell_type": "code",
      "metadata": {
        "id": "b37TCLYm2EIH"
      },
      "source": [
        ""
      ],
      "execution_count": null,
      "outputs": []
    }
  ]
}