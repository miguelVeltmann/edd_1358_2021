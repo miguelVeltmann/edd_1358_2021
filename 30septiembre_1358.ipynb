{
  "nbformat": 4,
  "nbformat_minor": 0,
  "metadata": {
    "colab": {
      "name": "30septiembre_1358",
      "provenance": [],
      "authorship_tag": "ABX9TyOKfou9HU0IIEhmgpD4QCyS",
      "include_colab_link": true
    },
    "kernelspec": {
      "name": "python3",
      "display_name": "Python 3"
    }
  },
  "cells": [
    {
      "cell_type": "markdown",
      "metadata": {
        "id": "view-in-github",
        "colab_type": "text"
      },
      "source": [
        "<a href=\"https://colab.research.google.com/github/miguelVeltmann/edd_1358_2021/blob/master/30septiembre_1358.ipynb\" target=\"_parent\"><img src=\"https://colab.research.google.com/assets/colab-badge.svg\" alt=\"Open In Colab\"/></a>"
      ]
    },
    {
      "cell_type": "markdown",
      "metadata": {
        "id": "QzGJRibfswEW"
      },
      "source": [
        "#Fundamentos python 3\n",
        "### Tipos de datos basicos\n",
        "edad = 13\n",
        "nombre = \"Jose\"\n",
        "Estatura= 1.67\n",
        "tiene_Ine = true\n",
        "\n",
        "###compuestos\n",
        "\n",
        "###listas\n",
        "son mutables\n",
        "se accede a los elementos via el indice\n",
        "los elementos pueden ser de diferente tipo \n",
        "\n",
        "lista_ejemplo = [\"manzana\", 1.57 , True, (\"rojo\", \"azul\") \n",
        "\n",
        "###Tuples\n",
        "Son inmutables\n",
        "se accede a los elementos via el indice\n",
        "los elementos pueden ser de diferente tipo\n",
        "\n",
        "tupla_ejemplo =( \"root, \"123.322.45.4\", \"1234dios\")\n",
        "\n",
        "\n",
        "###Diccionarios\n",
        "Son equivalentes a los JSON de JS\n",
        "\n",
        "###Sets\n",
        "Son datos agrupados"
      ]
    },
    {
      "cell_type": "code",
      "metadata": {
        "id": "w88MfD0FswMG",
        "outputId": "d2fbe14b-3991-4b89-bb37-3535a7a06781",
        "colab": {
          "base_uri": "https://localhost:8080/",
          "height": 221
        }
      },
      "source": [
        "lista_ejemplo = [\"manzana\", 1.57 , True, (\"rojo\", \"azul\")]\n",
        "print(lista_ejemplo[1] )\n",
        "print(lista_ejemplo[3] )\n",
        "print(lista_ejemplo[3][1] )\n",
        "lista_ejemplo[0] = \"Manzana\"\n",
        "print(lista_ejemplo)\n",
        "#agregar un elemento al final de la lista\n",
        "lista_ejemplo.append( \"iPhone\")\n",
        "print(lista_ejemplo)\n",
        "#sacar el ultimo elemento de la lista\n",
        "valor = lista_ejemplo.pop()\n",
        "print(valor)\n",
        "print(lista_ejemplo)\n",
        "#documentacion del tipo de lista dir() y help()\n",
        "print(\"--------\")\n",
        "\n",
        "lista_ejemplo.insert(1, \"Huawei\")\n",
        "print(lista_ejemplo)\n",
        "\n",
        "#count cuenta las veces que aparece un elemento especifico en la lista\n",
        "contador =lista_ejemplo.count(True)\n",
        "print(contador)\n",
        "\n",
        "colores =[\"rosa\", \"fiusha\", \"negro\"]\n",
        "lista_ejemplo.append(colores)\n",
        "\n",
        "print(lista_ejemplo)\n",
        "\n",
        "#con extend se fusionan dos listas\n",
        "\n",
        "lista_ejemplo.extend(colores)\n",
        "print(lista_ejemplo)\n"
      ],
      "execution_count": 14,
      "outputs": [
        {
          "output_type": "stream",
          "text": [
            "1.57\n",
            "('rojo', 'azul')\n",
            "azul\n",
            "['Manzana', 1.57, True, ('rojo', 'azul')]\n",
            "['Manzana', 1.57, True, ('rojo', 'azul'), 'iPhone']\n",
            "iPhone\n",
            "['Manzana', 1.57, True, ('rojo', 'azul')]\n",
            "--------\n",
            "['Manzana', 'Huawei', 1.57, True, ('rojo', 'azul')]\n",
            "1\n",
            "['Manzana', 'Huawei', 1.57, True, ('rojo', 'azul'), ['rosa', 'fiusha', 'negro']]\n",
            "['Manzana', 'Huawei', 1.57, True, ('rojo', 'azul'), ['rosa', 'fiusha', 'negro'], 'rosa', 'fiusha', 'negro']\n"
          ],
          "name": "stdout"
        }
      ]
    }
  ]
}