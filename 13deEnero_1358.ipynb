{
  "nbformat": 4,
  "nbformat_minor": 0,
  "metadata": {
    "colab": {
      "name": "13deEnero_1358",
      "provenance": [],
      "authorship_tag": "ABX9TyM6IqrvkqczC2lN3FF2jWi/",
      "include_colab_link": true
    },
    "kernelspec": {
      "name": "python3",
      "display_name": "Python 3"
    }
  },
  "cells": [
    {
      "cell_type": "markdown",
      "metadata": {
        "id": "view-in-github",
        "colab_type": "text"
      },
      "source": [
        "<a href=\"https://colab.research.google.com/github/miguelVeltmann/edd_1358_2021/blob/master/13deEnero_1358.ipynb\" target=\"_parent\"><img src=\"https://colab.research.google.com/assets/colab-badge.svg\" alt=\"Open In Colab\"/></a>"
      ]
    },
    {
      "cell_type": "code",
      "metadata": {
        "colab": {
          "base_uri": "https://localhost:8080/"
        },
        "id": "3dajdifAwltX",
        "outputId": "4b85235f-625c-40e2-f65c-9ee3b03d5e5b"
      },
      "source": [
        "def factorial( n ):\r\n",
        "    if n == 0:\r\n",
        "        return 1\r\n",
        "    else:\r\n",
        "        return factorial( n - 1 ) * n\r\n",
        "\r\n",
        "for num in range(21):\r\n",
        "    print( factorial(num) )"
      ],
      "execution_count": 1,
      "outputs": [
        {
          "output_type": "stream",
          "text": [
            "1\n",
            "1\n",
            "2\n",
            "6\n",
            "24\n",
            "120\n",
            "720\n",
            "5040\n",
            "40320\n",
            "362880\n",
            "3628800\n",
            "39916800\n",
            "479001600\n",
            "6227020800\n",
            "87178291200\n",
            "1307674368000\n",
            "20922789888000\n",
            "355687428096000\n",
            "6402373705728000\n",
            "121645100408832000\n",
            "2432902008176640000\n"
          ],
          "name": "stdout"
        }
      ]
    },
    {
      "cell_type": "code",
      "metadata": {
        "colab": {
          "base_uri": "https://localhost:8080/"
        },
        "id": "EsZXcqnfwspc",
        "outputId": "b3156108-c9e5-4209-b93f-fcc073997aba"
      },
      "source": [
        "def printRev( n ):\r\n",
        "    if n > 0:\r\n",
        "        printRev( n-1 )\r\n",
        "        print( n )\r\n",
        "printRev( 3 )"
      ],
      "execution_count": 2,
      "outputs": [
        {
          "output_type": "stream",
          "text": [
            "1\n",
            "2\n",
            "3\n"
          ],
          "name": "stdout"
        }
      ]
    },
    {
      "cell_type": "code",
      "metadata": {
        "id": "LObTSJNGwvmH"
      },
      "source": [
        "def fibinacci( n ):\r\n",
        "    if n == 0 or n == 1:\r\n",
        "        return n\r\n",
        "    else:\r\n",
        "        return fibinacci(n - 1) + fibinacci(n - 2)\r\n",
        "\r\n",
        "fibinacci( 8 )"
      ],
      "execution_count": null,
      "outputs": []
    }
  ]
}