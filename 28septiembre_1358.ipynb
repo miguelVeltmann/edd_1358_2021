{
  "nbformat": 4,
  "nbformat_minor": 0,
  "metadata": {
    "colab": {
      "name": "28septiembre_1358",
      "provenance": [],
      "authorship_tag": "ABX9TyMiS5L5a7MtfmdrwSjGwa0n",
      "include_colab_link": true
    },
    "kernelspec": {
      "name": "python3",
      "display_name": "Python 3"
    }
  },
  "cells": [
    {
      "cell_type": "markdown",
      "metadata": {
        "id": "view-in-github",
        "colab_type": "text"
      },
      "source": [
        "<a href=\"https://colab.research.google.com/github/miguelVeltmann/edd_1358_2021/blob/master/28septiembre_1358.ipynb\" target=\"_parent\"><img src=\"https://colab.research.google.com/assets/colab-badge.svg\" alt=\"Open In Colab\"/></a>"
      ]
    },
    {
      "cell_type": "code",
      "metadata": {
        "id": "lRONs2j2XOK4",
        "outputId": "31cfb81e-e0f6-41a7-f589-7e71c18072d3",
        "colab": {
          "base_uri": "https://localhost:8080/",
          "height": 35
        }
      },
      "source": [
        "print(\"Hola collab research\")\n",
        "Nombre = \"EdD\"\n",
        "val = 10"
      ],
      "execution_count": null,
      "outputs": [
        {
          "output_type": "stream",
          "text": [
            "Hola collab research\n"
          ],
          "name": "stdout"
        }
      ]
    },
    {
      "cell_type": "code",
      "metadata": {
        "id": "pSqp4N51Xh8J",
        "outputId": "453f2a55-6417-4aab-ce59-c5110c61d5f2",
        "colab": {
          "base_uri": "https://localhost:8080/",
          "height": 54
        }
      },
      "source": [
        "print(Nombre)\n",
        "print(val)"
      ],
      "execution_count": null,
      "outputs": [
        {
          "output_type": "stream",
          "text": [
            "xD\n",
            "10\n"
          ],
          "name": "stdout"
        }
      ]
    },
    {
      "cell_type": "markdown",
      "metadata": {
        "id": "NkyjWA8faSyE"
      },
      "source": [
        "# Esto es un encabezado \n",
        "## Encabezado nivel 2\n",
        "### Sintaxis Markdown\n",
        "\n",
        "*   Elemento 1\n",
        "*   Elemento 2\n",
        "*   Elemento 3\n",
        "\n",
        "1. Fresa\n",
        "1. Manzana\n",
        "1. pera\n",
        "1. asad\n",
        "\n",
        "Esto es un texto y quiero poner **negritas** y tambien _italica_ \n",
        " [ir a google](https://www.google.com)\n",
        "\n",
        "\n",
        "\n",
        "\n",
        "\n",
        "\n",
        "\n"
      ]
    },
    {
      "cell_type": "code",
      "metadata": {
        "id": "knc-Zt33b_6-"
      },
      "source": [
        "class Silla():\n",
        "  def __init__( self ):\n",
        "    self.material = \" \"\n",
        "    self.color = \" \"\n",
        "\n",
        "def __to_string__( self ):\n",
        "  print( \"-------- \")\n",
        "  print( f\" Material: {self.material } \")\n",
        "  print( f\" {self.color} -------\")"
      ],
      "execution_count": 5,
      "outputs": []
    },
    {
      "cell_type": "code",
      "metadata": {
        "id": "lScBCV79m3r8"
      },
      "source": [
        "obj = Silla()\n",
        "obj.color = \"Rojo\"\n",
        "obj.material = \"Madera\"\n",
        "obj.to_string()"
      ],
      "execution_count": null,
      "outputs": []
    }
  ]
}