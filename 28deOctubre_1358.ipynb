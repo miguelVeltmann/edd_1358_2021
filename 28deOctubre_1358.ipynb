{
  "nbformat": 4,
  "nbformat_minor": 0,
  "metadata": {
    "colab": {
      "name": "28deOctubre_1358",
      "provenance": [],
      "authorship_tag": "ABX9TyPfVPDpfCg/2tcBPUvCnCKu",
      "include_colab_link": true
    },
    "kernelspec": {
      "name": "python3",
      "display_name": "Python 3"
    }
  },
  "cells": [
    {
      "cell_type": "markdown",
      "metadata": {
        "id": "view-in-github",
        "colab_type": "text"
      },
      "source": [
        "<a href=\"https://colab.research.google.com/github/miguelVeltmann/edd_1358_2021/blob/master/28deOctubre_1358.ipynb\" target=\"_parent\"><img src=\"https://colab.research.google.com/assets/colab-badge.svg\" alt=\"Open In Colab\"/></a>"
      ]
    },
    {
      "cell_type": "code",
      "metadata": {
        "id": "pMwqgYn35wKG",
        "outputId": "9e963ddf-8e8a-4de7-fdad-6c297316ea7a",
        "colab": {
          "base_uri": "https://localhost:8080/"
        }
      },
      "source": [
        "\"\"\"\n",
        "Array\n",
        "\"\"\"\n",
        "class Array:\n",
        "  def __init__(self, tam):\n",
        "    self.__datos = [0 for x in range(tam)] #generador \n",
        "    self.__tam= tam\n",
        "\n",
        "  def get_item(self, index):\n",
        "    dato = 0\n",
        "    if index >= 0 and index < len(self.__datos):\n",
        "      dato = self.__datos[index]\n",
        "    else:\n",
        "      print(\"error en el indice\")\n",
        "    return dato\n",
        "\n",
        "  def set_item(self, dato, index):\n",
        "    if index >= 0 and index < len(self.__datos):\n",
        "      self.__datos[index] = dato\n",
        "    else:\n",
        "      print(\"error en el indice\")\n",
        "\n",
        "  def get_lenght(self):\n",
        "    return len(self.__datos)\n",
        "  \n",
        "  def clear(self, dato ):\n",
        "    self.__datos = [dato for x in range (self.__tam)]\n",
        "\n",
        "  def getIterator(self):\n",
        "    return _getIterator (self.__datos)\n",
        "\n",
        "\n",
        "class _getIterator:\n",
        "  def __init__(self, arreglo):\n",
        "    self.__arreglo= arreglo\n",
        "    self.__indice_actual = 0\n",
        "\n",
        "  def __iter__(self):\n",
        "    return self\n",
        "\n",
        "  def __next__(self):\n",
        "    if self.__indice_actual < len(self.__arreglo):\n",
        "      dato = self.__arreglo[self.__indice_actual]\n",
        "      self.__indice_actual +=1 \n",
        "      return dato\n",
        "    else:\n",
        "      raise StopIteration\n",
        "    \n",
        "\n",
        "mi_arreglo = Array(10)\n",
        "print(mi_arreglo.get_item(20))\n",
        "mi_arreglo.set_item(2345, 3)\n",
        "print(mi_arreglo.get_item( 3))\n",
        "print(mi_arreglo.get_lenght())\n",
        "mi_arreglo.clear(3)\n",
        "print(mi_arreglo.get_item(4))\n",
        "mi_arreglo.clear(0)\n",
        "for x in mi_arreglo.getIterator():\n",
        "  print(x)\n"
      ],
      "execution_count": 37,
      "outputs": [
        {
          "output_type": "stream",
          "text": [
            "error en el indice\n",
            "0\n",
            "2345\n",
            "10\n",
            "3\n",
            "0\n",
            "0\n",
            "0\n",
            "0\n",
            "0\n",
            "0\n",
            "0\n",
            "0\n",
            "0\n",
            "0\n"
          ],
          "name": "stdout"
        }
      ]
    },
    {
      "cell_type": "code",
      "metadata": {
        "id": "aX3WVkf7I0Jy",
        "outputId": "3a6d24df-4060-4a85-93d3-957fed591f11",
        "colab": {
          "base_uri": "https://localhost:8080/"
        }
      },
      "source": [
        "basura = [\"manzana\", \"pera\"]\n",
        "datos = [x.upper() for x in basura]\n",
        "print(datos)"
      ],
      "execution_count": 17,
      "outputs": [
        {
          "output_type": "stream",
          "text": [
            "['MANZANA', 'PERA']\n"
          ],
          "name": "stdout"
        }
      ]
    },
    {
      "cell_type": "markdown",
      "metadata": {
        "id": "-nBwTICJJAKv"
      },
      "source": [
        "[[0,0,0],\n",
        "[0,0,0],\n",
        "[0,0,0]]"
      ]
    },
    {
      "cell_type": "code",
      "metadata": {
        "id": "hPIxbklEJNIY",
        "outputId": "00d29850-b1e6-4810-c8fa-d7bedfcdd98c",
        "colab": {
          "base_uri": "https://localhost:8080/"
        }
      },
      "source": [
        "#lista 2D\n",
        "ren = 4\n",
        "col = 6\n",
        "dos_d = [[0 for x in range(col)] for x in range(ren)]\n",
        "print(dos_d)"
      ],
      "execution_count": 18,
      "outputs": [
        {
          "output_type": "stream",
          "text": [
            "[[0, 0, 0, 0, 0, 0], [0, 0, 0, 0, 0, 0], [0, 0, 0, 0, 0, 0], [0, 0, 0, 0, 0, 0]]\n"
          ],
          "name": "stdout"
        }
      ]
    }
  ]
}