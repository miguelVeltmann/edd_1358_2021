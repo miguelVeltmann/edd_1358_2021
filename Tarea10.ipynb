{
  "nbformat": 4,
  "nbformat_minor": 0,
  "metadata": {
    "colab": {
      "name": "Tarea10",
      "provenance": [],
      "authorship_tag": "ABX9TyNU5/wfCy1hjx2YKXuxJyhv",
      "include_colab_link": true
    },
    "kernelspec": {
      "name": "python3",
      "display_name": "Python 3"
    }
  },
  "cells": [
    {
      "cell_type": "markdown",
      "metadata": {
        "id": "view-in-github",
        "colab_type": "text"
      },
      "source": [
        "<a href=\"https://colab.research.google.com/github/miguelVeltmann/edd_1358_2021/blob/master/Tarea10.ipynb\" target=\"_parent\"><img src=\"https://colab.research.google.com/assets/colab-badge.svg\" alt=\"Open In Colab\"/></a>"
      ]
    },
    {
      "cell_type": "code",
      "metadata": {
        "id": "GmhzF3FvSQjD"
      },
      "source": [
        "def SumaEnteros(list ):\r\n",
        "    suma = 0\r\n",
        "    for x in range(len(list)):\r\n",
        "        suma += list[x]\r\n",
        "    return print(suma)\r\n",
        "\r\n",
        "def printRev( n ):\r\n",
        "    if n > 0:\r\n",
        "        print( n )\r\n",
        "        printRev( n-1 )\r\n",
        "        "
      ],
      "execution_count": null,
      "outputs": []
    },
    {
      "cell_type": "code",
      "metadata": {
        "colab": {
          "base_uri": "https://localhost:8080/"
        },
        "id": "Ep18Xe_ZSkKl",
        "outputId": "12c2213a-53e4-4a0b-af20-efcb91036631"
      },
      "source": [
        "printRev( 15)\r\n",
        "\r\n",
        "SumaEnteros([50,60,100,17,50])"
      ],
      "execution_count": 7,
      "outputs": [
        {
          "output_type": "stream",
          "text": [
            "15\n",
            "14\n",
            "13\n",
            "12\n",
            "11\n",
            "10\n",
            "9\n",
            "8\n",
            "7\n",
            "6\n",
            "5\n",
            "4\n",
            "3\n",
            "2\n",
            "1\n",
            "277\n"
          ],
          "name": "stdout"
        }
      ]
    }
  ]
}