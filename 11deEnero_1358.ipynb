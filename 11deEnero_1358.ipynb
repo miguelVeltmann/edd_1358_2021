{
  "nbformat": 4,
  "nbformat_minor": 0,
  "metadata": {
    "colab": {
      "name": "11deEnero_1358",
      "provenance": [],
      "authorship_tag": "ABX9TyP0JThCrpCU5q+938k7GRKC",
      "include_colab_link": true
    },
    "kernelspec": {
      "name": "python3",
      "display_name": "Python 3"
    }
  },
  "cells": [
    {
      "cell_type": "markdown",
      "metadata": {
        "id": "view-in-github",
        "colab_type": "text"
      },
      "source": [
        "<a href=\"https://colab.research.google.com/github/miguelVeltmann/edd_1358_2021/blob/master/11deEnero_1358.ipynb\" target=\"_parent\"><img src=\"https://colab.research.google.com/assets/colab-badge.svg\" alt=\"Open In Colab\"/></a>"
      ]
    },
    {
      "cell_type": "code",
      "metadata": {
        "id": "G7M5PS35PqA5"
      },
      "source": [
        "class NodoArbol:\r\n",
        "  def __init__(self, dato, hijo_izq = None, hijo_der = None):\r\n",
        "    self.dato = dato\r\n",
        "    self.hijo_izq = hijo_izq\r\n",
        "    self.hijo_der = hijo_der \r\n"
      ],
      "execution_count": 1,
      "outputs": []
    },
    {
      "cell_type": "code",
      "metadata": {
        "colab": {
          "base_uri": "https://localhost:8080/"
        },
        "id": "Ts4jhwDFR1ur",
        "outputId": "7d7a49e4-8726-49aa-ca85-32862eb1cee2"
      },
      "source": [
        "arbol = NodoArbol(\"R\")\r\n",
        "arbol.hijo_izq = NodoArbol(\"C\")\r\n",
        "arbol.hijo_der = NodoArbol(\"B\")\r\n",
        "#nodo raiz\r\n",
        "print(arbol.dato)\r\n",
        "#hijo izq\r\n",
        "print(arbol.hijo_izq.dato)\r\n",
        "#hijo der\r\n",
        "print(arbol.hijo_der.dato)"
      ],
      "execution_count": 3,
      "outputs": [
        {
          "output_type": "stream",
          "text": [
            "R\n",
            "C\n",
            "B\n"
          ],
          "name": "stdout"
        }
      ]
    },
    {
      "cell_type": "code",
      "metadata": {
        "colab": {
          "base_uri": "https://localhost:8080/"
        },
        "id": "g4xScWa-TC3u",
        "outputId": "e191ef19-e9f4-408a-ffa4-6c515bb0eb69"
      },
      "source": [
        "arbol_v2 = NodoArbol(\"R\", NodoArbol(\"C\"), NodoArbol(\"H\"))\r\n",
        "print(arbol.dato)\r\n",
        "print(arbol.hijo_izq.dato)\r\n",
        "print(arbol.hijo_der.dato)"
      ],
      "execution_count": 5,
      "outputs": [
        {
          "output_type": "stream",
          "text": [
            "R\n",
            "C\n",
            "B\n"
          ],
          "name": "stdout"
        }
      ]
    },
    {
      "cell_type": "code",
      "metadata": {
        "colab": {
          "base_uri": "https://localhost:8080/"
        },
        "id": "wo_-ZmWBTW_q",
        "outputId": "6444e566-c7a1-46df-c5ca-eff3265bdc01"
      },
      "source": [
        "#Ejercicio 2\r\n",
        "arbol2 = NodoArbol(\"4\",NodoArbol(\"3\", NodoArbol(\"2\", NodoArbol(\"2\"))), NodoArbol(\"5\"))\r\n",
        "print(arbol2.hijo_izq.hijo_izq.hijo_izq.dato)\r\n",
        "\r\n",
        "aux = arbol2\r\n",
        "while aux.hijo_izq != None:\r\n",
        "  aux = aux.hijo_izq\r\n",
        "  "
      ],
      "execution_count": 8,
      "outputs": [
        {
          "output_type": "stream",
          "text": [
            "2\n"
          ],
          "name": "stdout"
        }
      ]
    },
    {
      "cell_type": "code",
      "metadata": {
        "id": "kP6pQBAuYu8x"
      },
      "source": [
        "class NodoArbol1:\r\n",
        "  def __init__(self, dato, hijo_izq = None,hijo_centro = None, hijo_der = None):\r\n",
        "    self.dato = dato\r\n",
        "    self.hijo_izq = hijo_izq\r\n",
        "    self.hijo_der = hijo_der \r\n",
        "    self.hijo_centro = hijo_centro\r\n",
        "\r\n",
        "arbol3= NodoArbol1(\"R\", NodoArbol1(\"I\",None,\"X\",None),NodoArbol1(\"C\",\"Y\",None,None),NodoArbol1(\"D\",None,None \"Z\"))\r\n"
      ],
      "execution_count": 10,
      "outputs": []
    },
    {
      "cell_type": "code",
      "metadata": {
        "id": "xcFMizaRZAgA"
      },
      "source": [
        "#ejercicio3\r\n",
        "arbol3= NodoArbol1(\"R\", NodoArbol1(\"I\",None,NodoArbol(\"X\"),None),NodoArbol1(\"C\",NodoArbol(\"Y\"),None,None),NodoArbol1(\"D\",None,None,NodoArbol(\"Z\")))\r\n"
      ],
      "execution_count": 13,
      "outputs": []
    }
  ]
}