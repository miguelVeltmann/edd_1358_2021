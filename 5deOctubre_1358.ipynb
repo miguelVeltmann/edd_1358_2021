{
  "nbformat": 4,
  "nbformat_minor": 0,
  "metadata": {
    "colab": {
      "name": "5deOctubre_1358",
      "provenance": [],
      "authorship_tag": "ABX9TyP5z+9Vpp7Ojl0HMsry/ls/",
      "include_colab_link": true
    },
    "kernelspec": {
      "name": "python3",
      "display_name": "Python 3"
    }
  },
  "cells": [
    {
      "cell_type": "markdown",
      "metadata": {
        "id": "view-in-github",
        "colab_type": "text"
      },
      "source": [
        "<a href=\"https://colab.research.google.com/github/miguelVeltmann/edd_1358_2021/blob/master/5deOctubre_1358.ipynb\" target=\"_parent\"><img src=\"https://colab.research.google.com/assets/colab-badge.svg\" alt=\"Open In Colab\"/></a>"
      ]
    },
    {
      "cell_type": "code",
      "metadata": {
        "id": "orLCGDmCTCPt",
        "outputId": "dd4f69b2-6aee-46f0-a047-10eb7d2b4a5b",
        "colab": {
          "base_uri": "https://localhost:8080/",
          "height": 68
        }
      },
      "source": [
        "precio = 12.5\n",
        "cantidad = 2\n",
        "existencia = True\n",
        "# precio de los chetos ess 12.5 y quiero 2, pregunto si hay = True\n",
        "\n",
        "print(\"precio de los chetos en $ =\", precio, \" y quiero \", cantidad, \" hay?\", existencia)\n",
        "\n",
        "# format() de la clase str\n",
        "\n",
        "print(\"precio de los chetos es {} y quiero {} , hay: {}\".format(precio,cantidad,existencia))\n",
        "\n",
        "#operador f\n",
        "print(f\"precio de los chetos es {precio} y quiero {cantidad} , hay?:{existencia}\")"
      ],
      "execution_count": 5,
      "outputs": [
        {
          "output_type": "stream",
          "text": [
            "precio de los chetos en $ = 12.5  y quiero  2  hay? True\n",
            "precio de los chetos es 12.5 y quiero 2 , hay: True\n",
            "precio de los chetos es 12.5 y quiero 2 , hay?:True\n"
          ],
          "name": "stdout"
        }
      ]
    },
    {
      "cell_type": "markdown",
      "metadata": {
        "id": "GQ6uSZaKYf3R"
      },
      "source": [
        "#Listas\n",
        "declaracion []\n",
        "selector []\n",
        "mutable\n",
        "#Tuplas\n",
        "declaracion ()\n",
        "Selector []\n",
        "no mutable\n",
        "\n",
        "#Diccionarios\n",
        "Conjuntos de datos en pares de llave:valor\n",
        "son mutables\n",
        "equivalentes a los objetos JSON.\n",
        "\n",
        "#conjuntos\n",
        "Grupo de elementos con la teoría de conjuntos.\n",
        "operaciones de conjuntos."
      ]
    },
    {
      "cell_type": "code",
      "metadata": {
        "id": "8CErNXymZoyB"
      },
      "source": [
        "#Listas\n",
        "materias = [\"CyP\", \"DAA\", \"EDD\", \"IS\",\"POO\"]\n",
        "print(materias)\n",
        "\n",
        "print(materias[2] )\n",
        "print(materias[-1] )\n",
        "print(materias[4] )\n",
        "print(materias[::-1] )\n",
        "\n",
        "#crear una lista a partir de una string\n",
        "fecha = \"05/octubre/2020\"\n",
        "lista_fecha = fecha.split(\"/\")\n",
        "print(lista_fecha)\n",
        "\n",
        "#crear un string a partir de una lista\n",
        "Lista_hora = [\"15\",\"22\",\"45\"]\n",
        "hora = \":\".join(Lista_hora)\n",
        "print(hora)\n",
        "\n",
        "print(\"--------\")\n",
        "print(materias)\n",
        "print(lista_fecha)\n",
        "print(Lista_hora)\n",
        "\n",
        "materias[0] = \"computadoras y programacion\"\n",
        "print(materias)\n",
        "\n",
        "#agregar\n",
        "materias.append(\"Calidad\")\n",
        "print(materias)\n",
        "materias.insert(2,\"emprendimiento\")\n",
        "print(materias)\n",
        "materia = materias.pop()\n",
        "print(materia)\n",
        "print(materias)\n",
        "materia = materias.pop(1)\n",
        "print(materia)\n",
        "print(materias)\n",
        "#vaciar lista\n",
        "materias.clear()\n",
        "print(materias)\n",
        "\n",
        "#slicing\n",
        "print(\"slicing\")\n",
        "numeros = [0,1,2,3,4,5,6,7,8,9,10]\n",
        "print(numeros)\n",
        "print(numeros[4:9:1])\n",
        "\n",
        "#sustituir un segmento con slicing [0,1,2,3, -2 ,9,10]\n",
        "numeros[4:9:1] = [-2]\n",
        "print(numeros)"
      ],
      "execution_count": null,
      "outputs": []
    },
    {
      "cell_type": "code",
      "metadata": {
        "id": "X3Nub2xHiaGv"
      },
      "source": [
        "autos = [\"Mazda\" , \"Honda\", \"Akura\", \"Ford\", \"VW\"]\n",
        "telefonos = [\"Iphone\", \"Huawei\", \"Xiamoi\", \"Alcatel\"]\n",
        "sistemas_operativos = [\"Windows\", \"Linux\", \"Android\", \"iOS\", \"MacOs\"]\n",
        "\n",
        "lista_2d = [autos, telefonos, sistemas_operativos]\n",
        "print(lista_2d)\n",
        "print(lista_2d[1][1])"
      ],
      "execution_count": null,
      "outputs": []
    }
  ]
}