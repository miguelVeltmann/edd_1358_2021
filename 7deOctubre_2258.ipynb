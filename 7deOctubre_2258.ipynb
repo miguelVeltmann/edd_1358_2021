{
  "nbformat": 4,
  "nbformat_minor": 0,
  "metadata": {
    "colab": {
      "name": "7deOctubre_2258",
      "provenance": [],
      "authorship_tag": "ABX9TyMpmSQ5lsXmtWuxs49VRcuG",
      "include_colab_link": true
    },
    "kernelspec": {
      "name": "python3",
      "display_name": "Python 3"
    }
  },
  "cells": [
    {
      "cell_type": "markdown",
      "metadata": {
        "id": "view-in-github",
        "colab_type": "text"
      },
      "source": [
        "<a href=\"https://colab.research.google.com/github/miguelVeltmann/edd_1358_2021/blob/master/7deOctubre_2258.ipynb\" target=\"_parent\"><img src=\"https://colab.research.google.com/assets/colab-badge.svg\" alt=\"Open In Colab\"/></a>"
      ]
    },
    {
      "cell_type": "code",
      "metadata": {
        "id": "jZdpkMACk7xD"
      },
      "source": [
        "#Lista multidimension\n",
        "\n",
        "autos = [\"Mazda\" , \"Honda\", \"Akura\", \"Ford\", \"VW\"]\n",
        "telefonos = [\"Iphone\", \"Huawei\", \"Xiamoi\", \"Alcatel\"]\n",
        "sistemas_operativos = [\"Windows\", \"Linux\", \"Android\", \"iOS\", \"MacOs\"]\n",
        "procesadores = [[\"Intel\", 3.1, True],[\"AMD\", 2.7, False],[\"Motorola\", 1.1, False]]\n",
        "\n",
        "lista_nd = [autos, telefonos, sistemas_operativos,procesadores]\n",
        "print(lista_nd)\n",
        "print(lista_nd[1][1][-3::])\n",
        "print(lista_nd[3][1][1])\n",
        "print(lista_nd[3][2][0][2:6])\n",
        "print(lista_nd[3][0][0][3:0:-1])\n",
        "\n",
        "#concatenar listas\n",
        "colores =[\"rojo\", \"verde\", \"azul\", \"Negro\"]\n",
        "flores =[\"margarita\",\"rosa\"]\n",
        "\n",
        "nueva = colores + flores\n",
        "print(nueva)\n",
        "print(colores)\n",
        "print(flores)\n",
        "\n",
        "#con extendes\n",
        "colores.extend(flores)\n",
        "print(colores)\n",
        "\n",
        "#unpacking de listas\n",
        "print(\"unpacking\")\n",
        "datos_personales = [\"Jose\", \"Perez\", \"Juarez\", 22, 1.67, True]\n",
        "nombre = datos_personales[0]\n",
        "print(nombre)\n",
        "nombre,paterno,materno,edad,estatura,fuma = datos_personales\n",
        "print(nombre,paterno,materno,edad,estatura,fuma)\n",
        "print(f\"nombre: {nombre} \\nedad:{edad} \")"
      ],
      "execution_count": null,
      "outputs": []
    },
    {
      "cell_type": "code",
      "metadata": {
        "id": "OBKmBVP5uKDa",
        "outputId": "69581b0c-d3e0-48ec-937f-f1c8c081c769",
        "colab": {
          "base_uri": "https://localhost:8080/"
        }
      },
      "source": [
        "#Tuplas\n",
        "bd =(\"127.0.0.1\", \"root\", \"toor\", \"1345\")\n",
        "print(f\"usuario de la base de datos es {bd[1]}\")\n",
        "#bd[1] =\"user1\"\n",
        "print(f\"usuario de la base de datos es {bd[1]}\")\n",
        "print(bd[1:3])\n",
        "\n"
      ],
      "execution_count": 37,
      "outputs": [
        {
          "output_type": "stream",
          "text": [
            "usuario de la base de datos es root\n",
            "usuario de la base de datos es root\n",
            "('root', 'toor')\n"
          ],
          "name": "stdout"
        }
      ]
    },
    {
      "cell_type": "code",
      "metadata": {
        "id": "fsdQ48ahwYIF",
        "outputId": "f2779cd2-7670-47a1-bd15-7c373e127054",
        "colab": {
          "base_uri": "https://localhost:8080/"
        }
      },
      "source": [
        "#diccionarios\n",
        "#se declara con llaves {}\n",
        "alumno = {\n",
        "    \"nombre\": \"Juan\",\n",
        "    \"edad\":22,\n",
        "    \"carrera\":\"ICO\",\n",
        "    \"direccion\": { \"calle\": \"Bosques de Aragon\" ,\n",
        "                \"numero\":33,\n",
        "                \"delegacion\":\"Nezahualcoyotl\",\n",
        "                 \"estado\":15,\n",
        "                 \"nombre del estado\":\"Estado de Mexico\"} \n",
        "    }\n",
        "print(alumno) \n",
        "print(alumno[\"edad\"])\n",
        "print(alumno[\"direccion\"][\"delegacion\"])\n",
        "print(alumno[\"direccion\"][\"delegacion\"][3:7])\n",
        "print(alumno[\"direccion\"][\"delegacion\"][3:7].upper())\n",
        "alumno[\"edad\"]= 35\n",
        "print(alumno)\n",
        "alumno[\"promedio\"]= 9.9\n",
        "print(alumno)\n",
        "alumno[\"direccion\"][\"cp\"]= 17170\n",
        "print(alumno)\n",
        "alumno[\"materia\"] = {\"nombre\": \"CyP\", \"Calificacion\":10 }\n",
        "print(alumno)\n",
        "\n",
        "cliente ={\"id\": 1, \"nombre\": \"Carlos Slim\"}\n",
        "print(cliente)"
      ],
      "execution_count": 59,
      "outputs": [
        {
          "output_type": "stream",
          "text": [
            "{'nombre': 'Juan', 'edad': 22, 'carrera': 'ICO', 'direccion': {'calle': 'Bosques de Aragon', 'numero': 33, 'delegacion': 'Nezahualcoyotl', 'estado': 15, 'nombre del estado': 'Estado de Mexico'}}\n",
            "22\n",
            "Nezahualcoyotl\n",
            "ahua\n",
            "AHUA\n",
            "{'nombre': 'Juan', 'edad': 35, 'carrera': 'ICO', 'direccion': {'calle': 'Bosques de Aragon', 'numero': 33, 'delegacion': 'Nezahualcoyotl', 'estado': 15, 'nombre del estado': 'Estado de Mexico'}}\n",
            "{'nombre': 'Juan', 'edad': 35, 'carrera': 'ICO', 'direccion': {'calle': 'Bosques de Aragon', 'numero': 33, 'delegacion': 'Nezahualcoyotl', 'estado': 15, 'nombre del estado': 'Estado de Mexico'}, 'promedio': 9.9}\n",
            "{'nombre': 'Juan', 'edad': 35, 'carrera': 'ICO', 'direccion': {'calle': 'Bosques de Aragon', 'numero': 33, 'delegacion': 'Nezahualcoyotl', 'estado': 15, 'nombre del estado': 'Estado de Mexico', 'cp': 17170}, 'promedio': 9.9}\n",
            "{'nombre': 'Juan', 'edad': 35, 'carrera': 'ICO', 'direccion': {'calle': 'Bosques de Aragon', 'numero': 33, 'delegacion': 'Nezahualcoyotl', 'estado': 15, 'nombre del estado': 'Estado de Mexico', 'cp': 17170}, 'promedio': 9.9, 'materia': {'nombre': 'CyP', 'Calificacion': 10}}\n",
            "{'id': 1, 'nombre': 'Carlos Slim'}\n"
          ],
          "name": "stdout"
        }
      ]
    }
  ]
}