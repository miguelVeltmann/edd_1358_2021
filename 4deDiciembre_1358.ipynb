{
  "nbformat": 4,
  "nbformat_minor": 0,
  "metadata": {
    "colab": {
      "name": "4deDiciembre_1358",
      "provenance": [],
      "collapsed_sections": [],
      "authorship_tag": "ABX9TyOkvBgPAir/t6UUSLWm5xJE",
      "include_colab_link": true
    },
    "kernelspec": {
      "name": "python3",
      "display_name": "Python 3"
    }
  },
  "cells": [
    {
      "cell_type": "markdown",
      "metadata": {
        "id": "view-in-github",
        "colab_type": "text"
      },
      "source": [
        "<a href=\"https://colab.research.google.com/github/miguelVeltmann/edd_1358_2021/blob/master/4deDiciembre_1358.ipynb\" target=\"_parent\"><img src=\"https://colab.research.google.com/assets/colab-badge.svg\" alt=\"Open In Colab\"/></a>"
      ]
    },
    {
      "cell_type": "code",
      "metadata": {
        "id": "g4oVaBpxhVFi"
      },
      "source": [
        "class Array2D:\n",
        "\n",
        "    def __init__(self,rows, cols, value):\n",
        "        self.__cols = cols\n",
        "        self.__rows = rows\n",
        "        self.__array=[[value for x in range(self.__cols)] for y in range(self.__rows)]\n",
        "\n",
        "    def to_string(self):\n",
        "        [print(\"---\",end=\"\") for x in range(self.__cols)]\n",
        "        print(\"\")\n",
        "        for ren in self.__array:\n",
        "            print(ren)\n",
        "        [print(\"---\",end=\"\") for x in range(self.__cols)]\n",
        "        print(\"\")\n",
        "\n",
        "    def get_num_rows(self):\n",
        "        return self.__rows\n",
        "\n",
        "    def get_num_cols(self):\n",
        "        return self.__cols\n",
        "\n",
        "    def get_item(self,row,col):\n",
        "        return self.__array[row][col]\n",
        "\n",
        "    def set_item( self , row , col , valor ):\n",
        "        self.__array[row][col]=valor\n",
        "\n",
        "    def clearing(self, valor=0):\n",
        "        for ren in range(self.__rows):\n",
        "            for col in range(self.__cols):\n",
        "                self.__array[ren][col]=valor"
      ],
      "execution_count": null,
      "outputs": []
    },
    {
      "cell_type": "code",
      "metadata": {
        "id": "NBWk0bXsoi5G"
      },
      "source": [
        "class Stack:\n",
        "    def __init__(self):\n",
        "        self.__data = []\n",
        "        self.__size = 0\n",
        "\n",
        "    def pop(self):\n",
        "        return self.__data.pop()\n",
        "\n",
        "    def get_size(self):\n",
        "        return self.__size\n",
        "\n",
        "    def peak(self):\n",
        "        if len(self.__data) > 0:\n",
        "            return self.__data[-1]\n",
        "        else:\n",
        "            return None\n",
        "\n",
        "    def push(self,value):\n",
        "        self.__data.append(value)\n",
        "        self.__size += 1\n",
        "\n",
        "    def to_string(self):\n",
        "        print(\"-\"*6)\n",
        "        for dato in self.__data[::-1]:\n",
        "          print(f\"| {dato} |\")\n",
        "          print(\"/\" * 6)\n",
        "        print(\"\")"
      ],
      "execution_count": null,
      "outputs": []
    },
    {
      "cell_type": "code",
      "metadata": {
        "id": "pM_aL84rls_F"
      },
      "source": [
        "class LaberintoADT:\n",
        "  def __init__(self, archivo):\n",
        "    self.__laberinto = Array2D(0,0,0)\n",
        "    self.__camino = Stack()\n",
        "    self.__ren = 0\n",
        "    self.__col = 0\n",
        "    self.__entrada = (0,0)\n",
        "    entrada = open(archivo,\"rt\")\n",
        "    datos = entrada.readlines()\n",
        "    self.__rens = int(datos.pop(0).strip())\n",
        "    self.__cols = int(datos.pop(0).strip())\n",
        "    self.__entrada = list(datos[0].strip().split(\",\"))\n",
        "    self.__entrada[0] = int(self.__entrada[0])\n",
        "    self.__entrada[1] = int(self.__entrada[1])\n",
        "    \n",
        "    datos.pop(0)\n",
        "    print(self.__rens,self.__cols,self.__entrada)\n",
        "    print(datos)\n",
        "\n",
        "    self.__laberinto = Array2D(self.__rens, self.__cols, \"1\")\n",
        "    for renglon in range(self.__rens):\n",
        "      info_rem = datos[renglon].strip().split(\",\")\n",
        "      for columna in range(self.__cols):\n",
        "        self.__laberinto.set_item(renglon,columna,info_rem[columna])\n",
        "\n",
        "    self.__laberinto.to_string()\n",
        "\n",
        "\n",
        "\n",
        "\n"
      ],
      "execution_count": 16,
      "outputs": []
    },
    {
      "cell_type": "code",
      "metadata": {
        "colab": {
          "base_uri": "https://localhost:8080/"
        },
        "id": "Obucn2ENnV4_",
        "outputId": "71c84cb9-0eb7-4f98-a4e6-b5b342591550"
      },
      "source": [
        "#main\n",
        "laberinto = LaberintoADT(\"entrada.txt\")"
      ],
      "execution_count": 18,
      "outputs": [
        {
          "output_type": "stream",
          "text": [
            "7 7 [6, 2]\n",
            "['1,1,1,1,1,1,1\\n', '1,1,1,1,1,1,1\\n', '1,1,1,1,1,1,1\\n', '1,1,1,1,1,1,1\\n', '1,0,0,0,0,0,S\\n', '1,1,0,1,1,1,1\\n', '1,1,E,1,1,1,1']\n",
            "---------------------\n",
            "['1', '1', '1', '1', '1', '1', '1']\n",
            "['1', '1', '1', '1', '1', '1', '1']\n",
            "['1', '1', '1', '1', '1', '1', '1']\n",
            "['1', '1', '1', '1', '1', '1', '1']\n",
            "['1', '0', '0', '0', '0', '0', 'S']\n",
            "['1', '1', '0', '1', '1', '1', '1']\n",
            "['1', '1', 'E', '1', '1', '1', '1']\n",
            "---------------------\n"
          ],
          "name": "stdout"
        }
      ]
    }
  ]
}