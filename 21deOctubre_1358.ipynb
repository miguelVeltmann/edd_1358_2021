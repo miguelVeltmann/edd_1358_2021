{
  "nbformat": 4,
  "nbformat_minor": 0,
  "metadata": {
    "colab": {
      "name": "21deOctubre_1358",
      "provenance": [],
      "authorship_tag": "ABX9TyMFOClCqSimPXnzJJICroU3",
      "include_colab_link": true
    },
    "kernelspec": {
      "name": "python3",
      "display_name": "Python 3"
    }
  },
  "cells": [
    {
      "cell_type": "markdown",
      "metadata": {
        "id": "view-in-github",
        "colab_type": "text"
      },
      "source": [
        "<a href=\"https://colab.research.google.com/github/miguelVeltmann/edd_1358_2021/blob/master/21deOctubre_1358.ipynb\" target=\"_parent\"><img src=\"https://colab.research.google.com/assets/colab-badge.svg\" alt=\"Open In Colab\"/></a>"
      ]
    },
    {
      "cell_type": "code",
      "metadata": {
        "id": "9BE9APAyskME",
        "outputId": "f381ef93-c541-4bdd-8203-58474fdd1bdd",
        "colab": {
          "base_uri": "https://localhost:8080/",
          "height": 68
        }
      },
      "source": [
        "#encapsulamiento tradicional\n",
        "class smartphone:\n",
        "  def __init__( self, m):\n",
        "    self.__marca = m\n",
        "\n",
        "  def set_marca(self , m):\n",
        "    self.__marca = m\n",
        "\n",
        "  def get_marca(self , m):\n",
        "    return self.__marca\n",
        "\n",
        "  def to_string(self):\n",
        "    return \"La marca del telefono es: \" + self.__marca\n",
        "\n",
        "sp1 = smartphone(\"huawei\")\n",
        "print(sp1.to_string())\n",
        "sp1.__marca = \"iPhonne X\"\n",
        "print(sp1.to_string())\n",
        "sp1.set_marca(\"Samsung\")\n",
        "print(sp1.to_string())"
      ],
      "execution_count": 5,
      "outputs": [
        {
          "output_type": "stream",
          "text": [
            "La marca del telefono es: huawei\n",
            "La marca del telefono es: huawei\n",
            "La marca del telefono es: Samsung\n"
          ],
          "name": "stdout"
        }
      ]
    },
    {
      "cell_type": "code",
      "metadata": {
        "id": "XOmNcotRxZnc",
        "outputId": "180c8b48-4026-405a-b41a-85e923897b81",
        "colab": {
          "base_uri": "https://localhost:8080/",
          "height": 119
        }
      },
      "source": [
        "#estilo python 3\n",
        "class SmartPhone:\n",
        "  def __init__(self, m):\n",
        "    self.marca = m  #llamando al metodo set\n",
        "\n",
        "  @property\n",
        "  def marca(self): # define el metodo  get y declara sel.__marca\n",
        "    #print(\"en el metodo get de marca\")\n",
        "    return self.__marca\n",
        "\n",
        "  @marca.setter\n",
        "  def marca(self, m):\n",
        "    if m in [\"Lenovo\", \"Sony\", \"Motorola\", \"iPhone SE\", \"Huawei\", \"Xiaomi\"]:\n",
        "      self.__marca = m\n",
        "    else:\n",
        "      print(\"Asignacion no valida\")\n",
        "    \n",
        "\n",
        "  def to_string(self):\n",
        "    return \"Marca = \" + self.marca\n",
        "\n",
        "sp2 = SmartPhone(\"Xiaomi\")\n",
        "print(sp2.to_string() )\n",
        "sp2.__marca =\"iPhone SE\"\n",
        "print(sp2.to_string() )\n",
        "sp2.marca = \"Motorola\" #invocacion del metodo set\n",
        "print(sp2.to_string() ) \n",
        "\n",
        "print(sp2.marca) #invocacion del metodo get\n",
        "\n",
        "sp2.marca = \"738217948794\"\n",
        "print( sp2.to_string())\n"
      ],
      "execution_count": 18,
      "outputs": [
        {
          "output_type": "stream",
          "text": [
            "Marca = Xiaomi\n",
            "Marca = Xiaomi\n",
            "Marca = Motorola\n",
            "Motorola\n",
            "Asignacion no valida\n",
            "Marca = Motorola\n"
          ],
          "name": "stdout"
        }
      ]
    },
    {
      "cell_type": "code",
      "metadata": {
        "id": "mlZnXxJT5mjr",
        "outputId": "e90badfc-544e-4d9d-a6f7-7c40b9cb610b",
        "colab": {
          "base_uri": "https://localhost:8080/",
          "height": 71
        }
      },
      "source": [
        "class TelefonoTrabajo(SmartPhone):\n",
        "  def __init__(self, m):\n",
        "    self.marca = m\n",
        "\n",
        "sp3 = TelefonoTrabajo(\"Motorola\")\n",
        "print(dir(sp3))\n",
        "print(sp3.to_string())"
      ],
      "execution_count": 19,
      "outputs": [
        {
          "output_type": "stream",
          "text": [
            "['_SmartPhone__marca', '__class__', '__delattr__', '__dict__', '__dir__', '__doc__', '__eq__', '__format__', '__ge__', '__getattribute__', '__gt__', '__hash__', '__init__', '__init_subclass__', '__le__', '__lt__', '__module__', '__ne__', '__new__', '__reduce__', '__reduce_ex__', '__repr__', '__setattr__', '__sizeof__', '__str__', '__subclasshook__', '__weakref__', 'marca', 'to_string']\n",
            "Marca = Motorola\n"
          ],
          "name": "stdout"
        }
      ]
    }
  ]
}