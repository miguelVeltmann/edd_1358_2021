{
  "nbformat": 4,
  "nbformat_minor": 0,
  "metadata": {
    "colab": {
      "name": "Tarea 7",
      "provenance": [],
      "authorship_tag": "ABX9TyPntT5vSZVg5xLxj+Xb6waP",
      "include_colab_link": true
    },
    "kernelspec": {
      "name": "python3",
      "display_name": "Python 3"
    }
  },
  "cells": [
    {
      "cell_type": "markdown",
      "metadata": {
        "id": "view-in-github",
        "colab_type": "text"
      },
      "source": [
        "<a href=\"https://colab.research.google.com/github/miguelVeltmann/edd_1358_2021/blob/master/Tarea_7.ipynb\" target=\"_parent\"><img src=\"https://colab.research.google.com/assets/colab-badge.svg\" alt=\"Open In Colab\"/></a>"
      ]
    },
    {
      "cell_type": "code",
      "metadata": {
        "id": "QsC72Ybi8x6y"
      },
      "source": [
        "class stack:\n",
        "  def __init__(self):\n",
        "    self.__data = []\n",
        "    self.__size = 0\n",
        "\n",
        "  def is_empty(self):\n",
        "    return self.__size == 0\n",
        "\n",
        "\n",
        "  def pop(self):\n",
        "    return self.__data.pop()\n",
        "\n",
        "  def peek(self):\n",
        "    return self.__data[-1]\n",
        "\n",
        "  def push(self, value):\n",
        "    self.__data.append(value)\n",
        "\n",
        "  def to_string(self):\n",
        "    print(\"-------\")\n",
        "    for dato in self.__data[::-1]:\n",
        "      print(f\"| {dato} |\")\n",
        "      print(\"-------\")\n",
        "\n"
      ],
      "execution_count": 25,
      "outputs": []
    },
    {
      "cell_type": "code",
      "metadata": {
        "colab": {
          "base_uri": "https://localhost:8080/"
        },
        "id": "LT55T3DLADjh",
        "outputId": "3c3b1619-f24c-4753-a08c-3b6eadcd84ab"
      },
      "source": [
        "pl = stack()\n",
        "pl.push(34)\n",
        "pl.push(10)\n",
        "pl.push(45)\n",
        "pl.push(4)\n",
        "pl.push(23)\n",
        "pl.push(33)\n",
        "valor = pl.pop()\n",
        "print(valor *2)\n",
        "pl.to_string()\n",
        "valor = pl.peek()\n",
        "print(valor *2)\n",
        "pl.to_string()"
      ],
      "execution_count": 4,
      "outputs": [
        {
          "output_type": "stream",
          "text": [
            "66\n",
            "-------\n",
            "| 23 |\n",
            "-------\n",
            "| 4 |\n",
            "-------\n",
            "| 45 |\n",
            "-------\n",
            "| 10 |\n",
            "-------\n",
            "| 34 |\n",
            "-------\n",
            "46\n",
            "-------\n",
            "| 23 |\n",
            "-------\n",
            "| 4 |\n",
            "-------\n",
            "| 45 |\n",
            "-------\n",
            "| 10 |\n",
            "-------\n",
            "| 34 |\n",
            "-------\n"
          ],
          "name": "stdout"
        }
      ]
    },
    {
      "cell_type": "code",
      "metadata": {
        "colab": {
          "base_uri": "https://localhost:8080/"
        },
        "id": "-XrixOjrHyU0",
        "outputId": "fc4e232f-89eb-4a59-a3ed-c5e1e1fa1e8c"
      },
      "source": [
        "# aplicaciones de la estructura stack\n",
        "#1.- Validacion de parentesis balanceados \n",
        "cadena = \"b = 3*((5+(4/2))))\"\n",
        "pila = stack()\n",
        "pila.push(\"#\") #Caracter de pila vacia\n",
        "for elem in cadena:\n",
        "  if elem ==\"(\":\n",
        "    pila.push(\"*\")\n",
        "  elif elem == \")\":\n",
        "    if pila.is_empty():\n",
        "      pila.push(\"*\")\n",
        "      break\n",
        "    else:\n",
        "      pila.pop()\n",
        "  else:\n",
        "    pass\n",
        "if pila.peek() == \"#\":\n",
        "  print(\"la expresion esta balanceada en parentesis\")\n",
        "else:\n",
        "  print(\"la expresion no esta balanceada en parentesis\")\n"
      ],
      "execution_count": 33,
      "outputs": [
        {
          "output_type": "stream",
          "text": [
            "la expresion no esta balanceada en parentesis\n"
          ],
          "name": "stdout"
        }
      ]
    }
  ]
}