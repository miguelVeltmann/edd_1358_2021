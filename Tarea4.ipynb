{
  "nbformat": 4,
  "nbformat_minor": 0,
  "metadata": {
    "colab": {
      "name": "Tarea4",
      "provenance": [],
      "authorship_tag": "ABX9TyNeCPwk+R8xCX/QbSoFG04N",
      "include_colab_link": true
    },
    "kernelspec": {
      "name": "python3",
      "display_name": "Python 3"
    }
  },
  "cells": [
    {
      "cell_type": "markdown",
      "metadata": {
        "id": "view-in-github",
        "colab_type": "text"
      },
      "source": [
        "<a href=\"https://colab.research.google.com/github/miguelVeltmann/edd_1358_2021/blob/master/Tarea4.ipynb\" target=\"_parent\"><img src=\"https://colab.research.google.com/assets/colab-badge.svg\" alt=\"Open In Colab\"/></a>"
      ]
    },
    {
      "cell_type": "code",
      "metadata": {
        "colab": {
          "base_uri": "https://localhost:8080/"
        },
        "id": "eEtGmE6Cy4JD",
        "outputId": "f8a73a13-7030-43ca-990f-fa9350a702b2"
      },
      "source": [
        "class Nodo:\n",
        "  def __init__(self,dato, siguiente=None ):\n",
        "    self.dato = dato\n",
        "    self.siguiente = siguiente\n",
        "\n",
        "class LinkedList:\n",
        "  def __init__( self ):\n",
        "    self.__Head = None\n",
        "\n",
        "  def is_empty( self ):\n",
        "    return self.__Head == None\n",
        "\n",
        "  def tail( self):\n",
        "    curr_node = self.__Head\n",
        "    while curr_node != None and curr_node.siguiente != None:\n",
        "      curr_node= curr_node.siguiente\n",
        "    return curr_node\n",
        "\n",
        "  def append( self, value):\n",
        "    nuevo = Nodo(value)\n",
        "    if self.__Head == None:\n",
        "      self.__Head = nuevo\n",
        "    else:\n",
        "      self.tail().siguiente = nuevo \n",
        "\n",
        "  def transversal(self):\n",
        "    curr_node = self.__Head\n",
        "    if curr_node == None:\n",
        "      print(\"Lista vacia\")\n",
        "    else:\n",
        "      while curr_node != None:\n",
        "        print(f\"{curr_node.dato} --> \", end=\"\")\n",
        "        curr_node = curr_node.siguiente\n",
        "    print()\n",
        "\n",
        "  def prepend(self, value):\n",
        "    nuevo = Nodo(value, self.__Head)\n",
        "    self.__Head = nuevo\n",
        "\n",
        "  def remove(self, value):\n",
        "    curr_node = self.__Head\n",
        "    while curr_node != None:\n",
        "      if curr_node.dato == value:\n",
        "        self.__Head = curr_node.siguiente\n",
        "        break\n",
        "      if curr_node.siguiente.dato == value:\n",
        "        curr_node.siguiente = curr_node.siguiente.siguiente\n",
        "        break\n",
        "      curr_node = curr_node.siguiente\n",
        "\n",
        "  def pop(self, pos):\n",
        "    a = 1\n",
        "    curr_node = self.__Head\n",
        "    while curr_node != None:\n",
        "      if 1 == pos:\n",
        "        print(curr_node.dato)\n",
        "        self.__Head = curr_node.siguiente\n",
        "        break\n",
        "      a +=1\n",
        "      if a == pos:\n",
        "        print(curr_node.siguiente.dato)\n",
        "        curr_node.siguiente = curr_node.siguiente.siguiente\n",
        "        break\n",
        "      curr_node = curr_node.siguiente\n",
        "      \n",
        "      \n",
        "      \n",
        "      \n",
        "\n",
        "\n",
        "\n",
        "l = LinkedList()\n",
        "print(f\"L esta vacia?={l.is_empty()} \")\n",
        "x = l.tail()\n",
        "print(x)\n",
        "l.append(10)\n",
        "l.append(20)\n",
        "l.append(30)\n",
        "l.append(40)\n",
        "l.append(30)\n",
        "l.transversal()\n",
        "l.prepend(5)\n",
        "l.transversal()\n",
        "l.remove(5)\n",
        "l.transversal()\n",
        "l.remove(30)\n",
        "l.transversal()\n",
        "l.pop(1)\n",
        "l.transversal()\n",
        "l.pop(2)\n",
        "l.transversal()"
      ],
      "execution_count": 92,
      "outputs": [
        {
          "output_type": "stream",
          "text": [
            "L esta vacia?=True \n",
            "None\n",
            "10 --> 20 --> 30 --> 40 --> 30 --> \n",
            "5 --> 10 --> 20 --> 30 --> 40 --> 30 --> \n",
            "10 --> 20 --> 30 --> 40 --> 30 --> \n",
            "10 --> 20 --> 40 --> 30 --> \n",
            "10\n",
            "20 --> 40 --> 30 --> \n",
            "40\n",
            "20 --> 30 --> \n"
          ],
          "name": "stdout"
        }
      ]
    }
  ]
}