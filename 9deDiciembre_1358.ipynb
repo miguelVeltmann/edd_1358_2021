{
  "nbformat": 4,
  "nbformat_minor": 0,
  "metadata": {
    "colab": {
      "name": "9deDiciembre_1358",
      "provenance": [],
      "collapsed_sections": [],
      "authorship_tag": "ABX9TyOmnJTA4b+pY/eNK90keIBp",
      "include_colab_link": true
    },
    "kernelspec": {
      "name": "python3",
      "display_name": "Python 3"
    }
  },
  "cells": [
    {
      "cell_type": "markdown",
      "metadata": {
        "id": "view-in-github",
        "colab_type": "text"
      },
      "source": [
        "<a href=\"https://colab.research.google.com/github/miguelVeltmann/edd_1358_2021/blob/master/9deDiciembre_1358.ipynb\" target=\"_parent\"><img src=\"https://colab.research.google.com/assets/colab-badge.svg\" alt=\"Open In Colab\"/></a>"
      ]
    },
    {
      "cell_type": "code",
      "metadata": {
        "id": "g4oVaBpxhVFi"
      },
      "source": [
        "class Array2D:\n",
        "\n",
        "    def __init__(self,rows, cols, value):\n",
        "        self.__cols = cols\n",
        "        self.__rows = rows\n",
        "        self.__array=[[value for x in range(self.__cols)] for y in range(self.__rows)]\n",
        "\n",
        "    def to_string(self):\n",
        "        [print(\"---\",end=\"\") for x in range(self.__cols)]\n",
        "        print(\"\")\n",
        "        for ren in self.__array:\n",
        "            print(ren)\n",
        "        [print(\"---\",end=\"\") for x in range(self.__cols)]\n",
        "        print(\"\")\n",
        "\n",
        "    def get_num_rows(self):\n",
        "        return self.__rows\n",
        "\n",
        "    def get_num_cols(self):\n",
        "        return self.__cols\n",
        "\n",
        "    def get_item(self,row,col):\n",
        "        return self.__array[row][col]\n",
        "\n",
        "    def set_item( self , row , col , valor ):\n",
        "        self.__array[row][col]=valor\n",
        "\n",
        "    def clearing(self, valor=0):\n",
        "        for ren in range(self.__rows):\n",
        "            for col in range(self.__cols):\n",
        "                self.__array[ren][col]=valor"
      ],
      "execution_count": 21,
      "outputs": []
    },
    {
      "cell_type": "code",
      "metadata": {
        "id": "NBWk0bXsoi5G"
      },
      "source": [
        "class Stack:\n",
        "    def __init__(self):\n",
        "        self.__data = []\n",
        "        self.__size = 0\n",
        "\n",
        "    def pop(self):\n",
        "        return self.__data.pop()\n",
        "\n",
        "    def get_size(self):\n",
        "        return self.__size\n",
        "\n",
        "    def peak(self):\n",
        "        if len(self.__data) > 0:\n",
        "            return self.__data[-1]\n",
        "        else:\n",
        "            return None\n",
        "\n",
        "    def push(self,value):\n",
        "        self.__data.append(value)\n",
        "        self.__size += 1\n",
        "\n",
        "    def to_string(self):\n",
        "        print(\"-\"*6)\n",
        "        for dato in self.__data[::-1]:\n",
        "          print(f\"| {dato} |\")\n",
        "          print(\"/\" * 6)\n",
        "        print(\"\")"
      ],
      "execution_count": 22,
      "outputs": []
    },
    {
      "cell_type": "code",
      "metadata": {
        "id": "pM_aL84rls_F"
      },
      "source": [
        "class LaberintoADT:\n",
        "  def __init__(self, archivo):\n",
        "    self.__laberinto = Array2D(0,0,0)\n",
        "    self.__camino = Stack()\n",
        "    self.__ren = 0\n",
        "    self.__col = 0\n",
        "    self.__entrada = (0,0)\n",
        "    entrada = open(archivo,\"rt\")\n",
        "    datos = entrada.readlines()\n",
        "    self.__rens = int(datos.pop(0).strip())\n",
        "    self.__cols = int(datos.pop(0).strip())\n",
        "    self.__entrada = list(datos[0].strip().split(\",\"))\n",
        "    self.__entrada[0] = int(self.__entrada[0])\n",
        "    self.__entrada[1] = int(self.__entrada[1])\n",
        "    self.__camino.push((self.__entrada[0], self.__entrada[1]))\n",
        "    \n",
        "    datos.pop(0)\n",
        "    \n",
        "    \n",
        "    self.__laberinto = Array2D(self.__rens, self.__cols, \"1\")\n",
        "    for renglon in range(self.__rens):\n",
        "      info_rem = datos[renglon].strip().split(\",\")\n",
        "      for columna in range(self.__cols):\n",
        "        self.__laberinto.set_item(renglon,columna,info_rem[columna])\n",
        "\n",
        "  def imprimir_camino():\n",
        "    self.__camino.to_string() \n",
        "\n",
        "  def mostrar(self):\n",
        "    self.__laberinto.to_string()\n",
        "\n",
        "  def resolver( self ):\n",
        "        actual = self.__camino.peek()\n",
        "        # buscar a la izaquierda\n",
        "        if self.__laberinto.get_item( actual[0] , actual[1] -1 ) == '0' and self.__laberinto.get_item( actual[0] , actual[1] -1 ) != 'X' and  self.__previa != (actual[0], actual[1] -1):\n",
        "            self.__previa = actual \n",
        "            self.__camino.push((actual[0], actual[1] -1))\n",
        "\n",
        "        # buscar arriba\n",
        "        elif self.__laberinto.get_item( actual[0]-1 , actual[1] ) == '0' and self.__laberinto.get_item( actual[0]-1 , actual[1] ) != 'X' and  self.__previa != (actual[0]-1, actual[1]):\n",
        "            self.__previa = actual \n",
        "            self.__camino.push((actual[0]-1, actual[1]))\n",
        "        # buscar a la derecha\n",
        "        elif 1 == 2:\n",
        "            pass\n",
        "        # buscar abajo\n",
        "        elif 1 == 2:\n",
        "            pass\n",
        "        else:\n",
        "            self.__laberinto.set_item(actual[0], actual[1] , 'X')\n",
        "            self.__camino.pop()\n",
        "\n",
        "  def otros( self ):\n",
        "    pass"
      ],
      "execution_count": 24,
      "outputs": []
    },
    {
      "cell_type": "code",
      "metadata": {
        "id": "Obucn2ENnV4_"
      },
      "source": [
        "#main\n",
        "laberinto = LaberintoADT(\"entrada.txt\")\n",
        "laberinto.mostrar()\n",
        "laberinto.imprimir_camino()"
      ],
      "execution_count": null,
      "outputs": []
    }
  ]
}