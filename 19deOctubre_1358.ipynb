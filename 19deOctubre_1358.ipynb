{
  "nbformat": 4,
  "nbformat_minor": 0,
  "metadata": {
    "colab": {
      "name": "19deOctubre_1358",
      "provenance": [],
      "authorship_tag": "ABX9TyNTM49aQPQ4cGPPutUeMnkm",
      "include_colab_link": true
    },
    "kernelspec": {
      "name": "python3",
      "display_name": "Python 3"
    }
  },
  "cells": [
    {
      "cell_type": "markdown",
      "metadata": {
        "id": "view-in-github",
        "colab_type": "text"
      },
      "source": [
        "<a href=\"https://colab.research.google.com/github/miguelVeltmann/edd_1358_2021/blob/master/19deOctubre_1358.ipynb\" target=\"_parent\"><img src=\"https://colab.research.google.com/assets/colab-badge.svg\" alt=\"Open In Colab\"/></a>"
      ]
    },
    {
      "cell_type": "code",
      "metadata": {
        "id": "Smjm4QoeY6Bj",
        "outputId": "9f2379bb-e899-4741-ba9f-f98b46c21634",
        "colab": {
          "base_uri": "https://localhost:8080/",
          "height": 85
        }
      },
      "source": [
        "#read\n",
        "archivo = open(\"frutas.txt\",\"rt\")\n",
        "\n",
        "data = archivo.read()\n",
        "print(data.upper())\n",
        "\n",
        "archivo.close()"
      ],
      "execution_count": 4,
      "outputs": [
        {
          "output_type": "stream",
          "text": [
            "LIMON, AGUACATE, FRESA, MANZANA, \n",
            "CIRUELA, CAPULIN, NARANJA, \n",
            "PERA, KIWI\n",
            "\n"
          ],
          "name": "stdout"
        }
      ]
    },
    {
      "cell_type": "code",
      "metadata": {
        "id": "BNmAOGYHeLIL",
        "outputId": "fa132c14-9ce5-41b8-fdce-2feb74dd3c9a",
        "colab": {
          "base_uri": "https://localhost:8080/",
          "height": 119
        }
      },
      "source": [
        "#readline()\n",
        "archivo = open(\"frutas.txt\",\"rt\")\n",
        "\n",
        "data = archivo.readline()\n",
        "while data != \"\":\n",
        "  print(data)\n",
        "  data = archivo.readline()\n",
        "archivo.close()"
      ],
      "execution_count": 8,
      "outputs": [
        {
          "output_type": "stream",
          "text": [
            "limon, aguacate, fresa, manzana, \n",
            "\n",
            "ciruela, capulin, naranja, \n",
            "\n",
            "pera, kiwi\n",
            "\n"
          ],
          "name": "stdout"
        }
      ]
    },
    {
      "cell_type": "code",
      "metadata": {
        "id": "sIPDK0TcgEcy",
        "outputId": "5a2415d6-e7bd-4b44-cc4d-f987e5cc7988",
        "colab": {
          "base_uri": "https://localhost:8080/",
          "height": 68
        }
      },
      "source": [
        "#readlines()\n",
        "\n",
        "archivo = open(\"frutas.txt\",\"rt\")\n",
        "\n",
        "data = archivo.readlines()\n",
        "print(data)\n",
        "frutas=[]\n",
        "for linea in data:\n",
        "  frutas.append(linea.strip())\n",
        "\n",
        "frutas_final =[]\n",
        "for elem in frutas:\n",
        "  for fruta in elem.split(\",\"):\n",
        "    frutas_final.append(fruta.strip())\n",
        "\n",
        "print(frutas_final)\n",
        "print(frutas)\n",
        "archivo.close()"
      ],
      "execution_count": 13,
      "outputs": [
        {
          "output_type": "stream",
          "text": [
            "['limon, aguacate, fresa, manzana, \\n', 'ciruela, capulin, naranja, \\n', 'pera, kiwi\\n']\n",
            "['limon', 'aguacate', 'fresa', 'manzana', '', 'ciruela', 'capulin', 'naranja', '', 'pera', 'kiwi']\n",
            "['limon, aguacate, fresa, manzana,', 'ciruela, capulin, naranja,', 'pera, kiwi']\n"
          ],
          "name": "stdout"
        }
      ]
    },
    {
      "cell_type": "markdown",
      "metadata": {
        "id": "jn2zjSuElLt7"
      },
      "source": [
        "# POO con python\n",
        "- clase\n",
        "- objetos\n",
        "- atributos\n",
        "- metodos\n",
        "- metodo constructor\n",
        "- encapsulamiento (publico y privado)\n",
        "- Herencia\n",
        "\n",
        "Declarar clases en python se usa la palabra reservada class\n"
      ]
    },
    {
      "cell_type": "code",
      "metadata": {
        "id": "kz3Ld8ZOlvn1",
        "outputId": "99537b58-9af7-4fd3-88f4-a4c160dedd45",
        "colab": {
          "base_uri": "https://localhost:8080/",
          "height": 51
        }
      },
      "source": [
        "class Persona:\n",
        "  def __init__( self, edd, est ):\n",
        "    self.edad__ = edd\n",
        "    self.estatura__ = est\n",
        "\n",
        "  def to_string( self ):\n",
        "    print(f\"Edad={self.edad__}, est={self.estatura__}\" )\n",
        "\n",
        "perl = Persona(23, 1.78)\n",
        "perl.to_string()\n",
        "perl.__estatura = 10.4\n",
        "perl.to_string()"
      ],
      "execution_count": 28,
      "outputs": [
        {
          "output_type": "stream",
          "text": [
            "Edad=23, est=1.78\n",
            "Edad=23, est=1.78\n"
          ],
          "name": "stdout"
        }
      ]
    }
  ]
}