{
  "nbformat": 4,
  "nbformat_minor": 0,
  "metadata": {
    "colab": {
      "name": "14deOctubre_1358",
      "provenance": [],
      "authorship_tag": "ABX9TyNzoK1R9B/iXM1ghHutanLg",
      "include_colab_link": true
    },
    "kernelspec": {
      "name": "python3",
      "display_name": "Python 3"
    }
  },
  "cells": [
    {
      "cell_type": "markdown",
      "metadata": {
        "id": "view-in-github",
        "colab_type": "text"
      },
      "source": [
        "<a href=\"https://colab.research.google.com/github/miguelVeltmann/edd_1358_2021/blob/master/14deOctubre_1358.ipynb\" target=\"_parent\"><img src=\"https://colab.research.google.com/assets/colab-badge.svg\" alt=\"Open In Colab\"/></a>"
      ]
    },
    {
      "cell_type": "code",
      "metadata": {
        "id": "bRkDiX5ApHsX"
      },
      "source": [
        "def calcular(a, b, c):\n",
        "  x = a + (b/c)\n",
        "  return x\n",
        "\n",
        "print(calcular(5,9,3))\n",
        "print(calcular(a=5,c=3,b=9))\n",
        "\n",
        "def calcular_2(a=10, b=20, c=5):\n",
        "  x = a + (b/c)\n",
        "  return x\n",
        "\n",
        "print(calcular_2())\n",
        "print(calcular_2(40, 8))"
      ],
      "execution_count": null,
      "outputs": []
    },
    {
      "cell_type": "markdown",
      "metadata": {
        "id": "DRgLcOe4rwVs"
      },
      "source": [
        "#Argumentos a funciones por tupla *\n",
        "Se envian los argumentos en un conjunto de elementos dentro de una tupla"
      ]
    },
    {
      "cell_type": "code",
      "metadata": {
        "id": "ABpMpAdzr4DA",
        "outputId": "23363aae-97e8-4e59-aaca-7775ae407e8f",
        "colab": {
          "base_uri": "https://localhost:8080/",
          "height": 51
        }
      },
      "source": [
        "def calculo(*elem):\n",
        "  print(elem)\n",
        "  x = elem[0] + (elem[1] / elem[2] )\n",
        "  return x\n",
        "\n",
        "print(calculo(5,9,3))"
      ],
      "execution_count": 11,
      "outputs": [
        {
          "output_type": "stream",
          "text": [
            "(5, 9, 3)\n",
            "8.0\n"
          ],
          "name": "stdout"
        }
      ]
    },
    {
      "cell_type": "markdown",
      "metadata": {
        "id": "w-Lfq3fQsz2C"
      },
      "source": [
        "#Argumentos como diccionario**"
      ]
    },
    {
      "cell_type": "code",
      "metadata": {
        "id": "ZyLPrjVos4Gp",
        "outputId": "4f9e2eaa-af0b-4ec8-e9b6-5230aa0a71e6",
        "colab": {
          "base_uri": "https://localhost:8080/",
          "height": 51
        }
      },
      "source": [
        "def calculo(**elem):\n",
        "  print(elem)\n",
        "  x = elem[\"a\"] + (elem[\"b\"]/ elem[\"c\"])\n",
        "  return x\n",
        "\n",
        "print(calculo(a=5, b=9, c=3))"
      ],
      "execution_count": 13,
      "outputs": [
        {
          "output_type": "stream",
          "text": [
            "{'a': 5, 'b': 9, 'c': 3}\n",
            "8.0\n"
          ],
          "name": "stdout"
        }
      ]
    },
    {
      "cell_type": "markdown",
      "metadata": {
        "id": "l8NUFjvvzF29"
      },
      "source": [
        "# archivos\n",
        "- abrirlos\n",
        "    - un str con la ruta del arc\n",
        "    - dos caracteres: 1 -->  modo de apertura(r,w) y el 2 formato(texto o binario)\n",
        "-leerlos\n",
        "-modificarlos"
      ]
    },
    {
      "cell_type": "code",
      "metadata": {
        "id": "d3PfRae8zF_4"
      },
      "source": [
        "archivo = open(\"ejemplo.txt\",\"wt\")\n",
        "\n",
        "archivo.write(\"Hola mundo de archivos\")\n",
        "\n",
        "archivo.close()"
      ],
      "execution_count": 15,
      "outputs": []
    },
    {
      "cell_type": "code",
      "metadata": {
        "id": "alQA0zd-4lU7"
      },
      "source": [
        "!(cat ejemplo.txt > otra.txt)"
      ],
      "execution_count": null,
      "outputs": []
    }
  ]
}