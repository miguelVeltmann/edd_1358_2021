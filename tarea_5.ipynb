{
  "nbformat": 4,
  "nbformat_minor": 0,
  "metadata": {
    "colab": {
      "name": "tarea 5",
      "provenance": [],
      "collapsed_sections": [],
      "authorship_tag": "ABX9TyMXjSA55nv9TgDVB8Q/SesC",
      "include_colab_link": true
    },
    "kernelspec": {
      "name": "python3",
      "display_name": "Python 3"
    }
  },
  "cells": [
    {
      "cell_type": "markdown",
      "metadata": {
        "id": "view-in-github",
        "colab_type": "text"
      },
      "source": [
        "<a href=\"https://colab.research.google.com/github/miguelVeltmann/edd_1358_2021/blob/master/tarea_5.ipynb\" target=\"_parent\"><img src=\"https://colab.research.google.com/assets/colab-badge.svg\" alt=\"Open In Colab\"/></a>"
      ]
    },
    {
      "cell_type": "code",
      "metadata": {
        "id": "Klhb06_7KCNz"
      },
      "source": [
        "class NodoDoble:\n",
        "  def __init__( self , value , previo = None , siguiente = None ):\n",
        "      self.data = value\n",
        "      self.prev = previo\n",
        "      self.next = siguiente\n",
        "\n",
        "class DoubledLinkedList:\n",
        "  def __init__(self):\n",
        "    self.__head = None\n",
        "    self.__tail = None\n",
        "    self.__size = 0\n",
        "\n",
        "  def get_size(self):\n",
        "    return self.__size\n",
        "\n",
        "  def is_empty(self):\n",
        "    return self.__size == 0\n",
        "\n",
        "  def append(self, value):\n",
        "    if self.is_empty():\n",
        "      nuevo = NodoDoble(value)\n",
        "      self.__head = nuevo\n",
        "      self.__tail = nuevo\n",
        "    else:\n",
        "      nuevo = NodoDoble(value, self.__tail, None)\n",
        "      self.__tail.next = nuevo\n",
        "      self.__tail = nuevo\n",
        "    self.__size +=1\n",
        "\n",
        "  def transversal(self):\n",
        "    curr_node = self.__head\n",
        "    while curr_node != None:\n",
        "      print(\"<--\", curr_node.data , \"-->\", end=\" \")\n",
        "      curr_node = curr_node.next\n",
        "    print(\"\")\n",
        "\n",
        "  def reverse_transversal(self):\n",
        "    curr_node = self.__tail\n",
        "    while curr_node != None:\n",
        "      print(\"<--\", curr_node.data , \"-->\", end=\" \")\n",
        "      curr_node = curr_node.prev\n",
        "    print(\"\")\n",
        "\n",
        "  def remove_from_head(self, value):\n",
        "    if self.is_empty():\n",
        "      pass\n",
        "    else:\n",
        "      curr_node = self.__head\n",
        "      if self.__head.data == value:\n",
        "        self.__head = curr_node.next\n",
        "      else :\n",
        "        while curr_node.data != value and curr_node !=None:\n",
        "          curr_node = curr_node.next\n",
        "        if curr_node.data == value:\n",
        "          curr_node.prev.next =curr_node.next\n",
        "          curr_node.next.prev = curr_node.prev\n",
        "      self.__size -=1\n",
        "\n",
        "  def remove_from_tail(self, value):\n",
        "    if self.is_empty():\n",
        "      pass\n",
        "    else:\n",
        "      curr_node = self.__tail\n",
        "      if self.__tail.data == value:\n",
        "        curr_node.prev.next = None\n",
        "      else:\n",
        "        while curr_node.data != value and curr_node !=None:\n",
        "          curr_node = curr_node.prev\n",
        "        if curr_node.data == value:\n",
        "          curr_node.next.prev = curr_node.prev\n",
        "          curr_node.prev.next =curr_node.next\n",
        "      self.__size -=1\n",
        "\n",
        "  def find_from_head( self, value):\n",
        "    if self.is_empty():\n",
        "      pass\n",
        "    else:\n",
        "      curr_node = self.__head\n",
        "      posicion = 0\n",
        "      while curr_node !=None:\n",
        "        curr_node = curr_node.next\n",
        "        posicion +=1\n",
        "        if curr_node.data == value:\n",
        "          print(posicion)\n",
        "          break\n",
        "\n",
        "  def find_from_tail( self, value):\n",
        "    if self.is_empty():\n",
        "      pass\n",
        "    else:\n",
        "      curr_node = self.__tail\n",
        "      posicion = self.__size\n",
        "      while curr_node !=None:\n",
        "        curr_node = curr_node.prev\n",
        "        posicion -=1\n",
        "        if curr_node.data == value:\n",
        "          print(posicion)\n",
        "          break\n",
        "        \n"
      ],
      "execution_count": 127,
      "outputs": []
    },
    {
      "cell_type": "code",
      "metadata": {
        "colab": {
          "base_uri": "https://localhost:8080/"
        },
        "id": "F5qH7nMjSCDQ",
        "outputId": "e7bdc533-a4fc-4ae8-aafa-06b03d2f0c2b"
      },
      "source": [
        "ldl = DoubledLinkedList()\n",
        "print(ldl.get_size())\n",
        "ldl.append(10)\n",
        "print(ldl.get_size())\n",
        "ldl.transversal()\n",
        "ldl.append(20)\n",
        "ldl.append(30)\n",
        "ldl.append(20)\n",
        "ldl.append(10)\n",
        "ldl.append(20)\n",
        "print(ldl.get_size())\n",
        "ldl.transversal()\n",
        "ldl.reverse_transversal()\n",
        "ldl.remove_from_head(10)\n",
        "ldl.transversal()\n",
        "ldl.remove_from_tail(20)\n",
        "ldl.transversal()\n",
        "ldl.find_from_head(10)\n",
        "ldl.find_from_tail(30)\n",
        "\n"
      ],
      "execution_count": 129,
      "outputs": [
        {
          "output_type": "stream",
          "text": [
            "0\n",
            "1\n",
            "<-- 10 --> \n",
            "6\n",
            "<-- 10 --> <-- 20 --> <-- 30 --> <-- 20 --> <-- 10 --> <-- 20 --> \n",
            "<-- 20 --> <-- 10 --> <-- 20 --> <-- 30 --> <-- 20 --> <-- 10 --> \n",
            "<-- 20 --> <-- 30 --> <-- 20 --> <-- 10 --> <-- 20 --> \n",
            "<-- 20 --> <-- 30 --> <-- 20 --> <-- 10 --> \n",
            "3\n",
            "1\n"
          ],
          "name": "stdout"
        }
      ]
    }
  ]
}